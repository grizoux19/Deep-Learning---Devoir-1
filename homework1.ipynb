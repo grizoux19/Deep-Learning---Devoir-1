{
 "cells": [
  {
   "cell_type": "markdown",
   "metadata": {},
   "source": [
    "# INFO8010: Homework 1\n",
    "\n",
    "In this first homework, you will familiarize yourself with the basics of differentiable programming and the PyTorch framework. At the end of this assignment, you should be able to build and train your own multi-layer perceptron. Although this assignment is optional, we **strongly** advise you to do it as you are expected to be comfortable with PyTorch at the end of this course.\n",
    "\n",
    "In the following, we provide some code blocks that are already running, along with explanations. You are asked to complete the code blocks in which the `# your code` comment is present. Sometimes, you will also have to motivate why you programmed certain things or guide us quickly through the results you obtained. If this is required you will see the following instruction:\n",
    "\n",
    "> your discussion\n",
    "\n",
    "Please note that you will **not** have to handle in any sort of written report by the end of the assignment. We do however expect you to submit the notebook **with the solutions** to the exercises."
   ]
  },
  {
   "cell_type": "markdown",
   "metadata": {},
   "source": [
    "## 0. Imports\n",
    "\n",
    "Our first step is very easy: we simply import the required libraries."
   ]
  },
  {
   "cell_type": "code",
   "execution_count": 197,
   "metadata": {},
   "outputs": [],
   "source": [
    "import numpy as np\n",
    "import torch\n",
    "import matplotlib.pyplot as plt\n",
    "\n",
    "\n"
   ]
  },
  {
   "cell_type": "markdown",
   "metadata": {},
   "source": [
    "## 1. Tensors and basic operations\n",
    "\n",
    "Tensors are one of the main ingredients when it comes to modern deep learning frameworks. Almost all deep learning computations can be expressed as tensor operations which make computation fast and efficient, especially on graphics processing units (GPUs). We will now see how to manipulate tensors within the PyTorch framework.\n",
    "\n",
    "There are many valid definitions for tensors, but to keep it simple you can see them as multi-dimensional arrays. Zero-dimensional tensors are scalars, one-dimensional tensors are vectors, two-dimensional tensors are matrices, etc.\n",
    "\n",
    "In PyTorch, a tensor is an instance of the class `torch.Tensor`. PyTorch tensors are **very** similar to NumPy arrays.\n",
    "Almost any operations you could imagine can be performed on tensors (see [API](https://pytorch.org/docs/stable/tensors.html))."
   ]
  },
  {
   "cell_type": "markdown",
   "metadata": {},
   "source": [
    "### 1.1 Tensors\n",
    "\n",
    "There are many ways to [create tensors](https://pytorch.org/docs/stable/tensors.html#torch.Tensor), for instance:"
   ]
  },
  {
   "cell_type": "code",
   "execution_count": 198,
   "metadata": {},
   "outputs": [
    {
     "name": "stdout",
     "output_type": "stream",
     "text": [
      "tensor([[ 1,  2],\n",
      "        [-7,  9]])\n",
      "tensor([[1., 8.],\n",
      "        [0., 3.]], dtype=torch.float64)\n",
      "tensor([[[0., 0., 0., 0.],\n",
      "         [0., 0., 0., 0.],\n",
      "         [0., 0., 0., 0.]],\n",
      "\n",
      "        [[0., 0., 0., 0.],\n",
      "         [0., 0., 0., 0.],\n",
      "         [0., 0., 0., 0.]]])\n"
     ]
    }
   ],
   "source": [
    "# we can create a tensor from lists\n",
    "t1 = torch.tensor([[1, 2], [-7, 9]])\n",
    "print(t1)\n",
    "\n",
    "# or from numpy arrays\n",
    "t2 = torch.from_numpy(np.array([[1., 8.], [0., 3.]]))\n",
    "print(t2)\n",
    "\n",
    "# or we can create a 2x3x4 tensor filled with zeros\n",
    "t3 = torch.zeros(2, 3, 4)\n",
    "print(t3)"
   ]
  },
  {
   "cell_type": "markdown",
   "metadata": {},
   "source": [
    "As an array may contain different types of data (e.g. float, int, boolean), so can a tensor. Let's check what types of data are in `t1`, `t2` and `t3`:"
   ]
  },
  {
   "cell_type": "code",
   "execution_count": 199,
   "metadata": {},
   "outputs": [
    {
     "name": "stdout",
     "output_type": "stream",
     "text": [
      "torch.int64\n",
      "torch.float64\n",
      "torch.float32\n"
     ]
    }
   ],
   "source": [
    "print(t1.dtype, t2.dtype, t3.dtype, sep='\\n')"
   ]
  },
  {
   "cell_type": "markdown",
   "metadata": {},
   "source": [
    "As expected, PyTorch uses an integer data type to store integer values and a floating-point data type to store real values. However, unlike NumPy, PyTorch uses a **single-precision** floating-point data type (`float32`) by default.\n",
    "\n",
    "You can convert tensors from one type to another:"
   ]
  },
  {
   "cell_type": "code",
   "execution_count": 200,
   "metadata": {},
   "outputs": [
    {
     "name": "stdout",
     "output_type": "stream",
     "text": [
      "tensor([[ 1.,  2.],\n",
      "        [-7.,  9.]])\n",
      "tensor([[1, 8],\n",
      "        [0, 3]])\n",
      "tensor([[[0., 0., 0., 0.],\n",
      "         [0., 0., 0., 0.],\n",
      "         [0., 0., 0., 0.]],\n",
      "\n",
      "        [[0., 0., 0., 0.],\n",
      "         [0., 0., 0., 0.],\n",
      "         [0., 0., 0., 0.]]], dtype=torch.float64)\n"
     ]
    }
   ],
   "source": [
    "print(t1.float(), t2.long(), t3.double(), sep='\\n')"
   ]
  },
  {
   "cell_type": "markdown",
   "metadata": {},
   "source": [
    "Another important property of a tensor is its shape. You can use the `.shape` property or `.size()` method to check the dimensions of a tensor. Both return a `torch.Size` object that can be manipulated with its own operations. Most of the time, you will just use `torch.Size` objects as tuples or lists (e.g. to check the size of a tensor along one of its dimension)."
   ]
  },
  {
   "cell_type": "code",
   "execution_count": 201,
   "metadata": {},
   "outputs": [
    {
     "name": "stdout",
     "output_type": "stream",
     "text": [
      "torch.Size([2, 2])\n",
      "2\n",
      "torch.Size([3, 4])\n"
     ]
    }
   ],
   "source": [
    "# the full shape\n",
    "print(t1.shape)\n",
    "\n",
    "# the length of the tensor along its first dimension\n",
    "print(t2.shape[0])\n",
    "\n",
    "# the shape of the two last dimensions\n",
    "print(t3.shape[-2:])"
   ]
  },
  {
   "cell_type": "markdown",
   "metadata": {},
   "source": [
    "### 1.2 Operations\n",
    "\n",
    "We now consider simple tensor operations on 1D (vectors) and 2D (matrices) tensors. Lets instantiate two vectors with 5 elements and two matrices of respectively 3x5 and 5x5 elements."
   ]
  },
  {
   "cell_type": "code",
   "execution_count": 202,
   "metadata": {},
   "outputs": [
    {
     "name": "stdout",
     "output_type": "stream",
     "text": [
      "tensor([1., 1., 1., 1., 1.])\n",
      "tensor([ 1.0190,  1.2713, -0.8521, -0.4135, -0.5260])\n",
      "tensor([[0.5786, 0.4664, 0.4986, 0.5598, 0.0818],\n",
      "        [0.4493, 0.3505, 0.2963, 0.4417, 0.4232],\n",
      "        [0.2796, 0.3818, 0.9231, 0.4420, 0.3063]])\n",
      "tensor([[1., 0., 0., 0., 0.],\n",
      "        [0., 1., 0., 0., 0.],\n",
      "        [0., 0., 1., 0., 0.],\n",
      "        [0., 0., 0., 1., 0.],\n",
      "        [0., 0., 0., 0., 1.]])\n"
     ]
    }
   ],
   "source": [
    "v1 = torch.ones(5)\n",
    "print(v1)\n",
    "\n",
    "v2 = torch.randn(5)  # standard gaussian\n",
    "print(v2)\n",
    "\n",
    "m1 = torch.rand(3, 5)  # [0, 1) uniform\n",
    "print(m1)\n",
    "\n",
    "m2 = torch.eye(5)  # identity matrix\n",
    "print(m2)"
   ]
  },
  {
   "cell_type": "markdown",
   "metadata": {},
   "source": [
    "The most basic operations are the addition, subtraction, multiplication and division. As in NumPy, but unlike MATLAB, the symbols `+, -, *, /` all perform **element-wise** operations."
   ]
  },
  {
   "cell_type": "code",
   "execution_count": 203,
   "metadata": {},
   "outputs": [
    {
     "name": "stdout",
     "output_type": "stream",
     "text": [
      "tensor([2.0190, 2.2713, 0.1479, 0.5865, 0.4740])\n",
      "tensor([-0.0190, -0.2713,  1.8521,  1.4135,  1.5260])\n",
      "tensor([ 1.0190,  1.2713, -0.8521, -0.4135, -0.5260])\n",
      "tensor([ 0.9813,  0.7866, -1.1736, -2.4186, -1.9011])\n"
     ]
    }
   ],
   "source": [
    "# add v1 and v2\n",
    "v_sum = v1 + v2\n",
    "print(v_sum)\n",
    "\n",
    "# subtract v1 from v2\n",
    "v_sub = v1 - v2\n",
    "print(v_sub)\n",
    "\n",
    "# multiply the elements of v1 and v2\n",
    "v_mul = v1 * v2\n",
    "print(v_mul)\n",
    "\n",
    "# divide the elements of v1 by v2\n",
    "v_div = v1 / v2\n",
    "print(v_div)"
   ]
  },
  {
   "cell_type": "markdown",
   "metadata": {},
   "source": [
    "When trying to perform an element-wise operation between tensors of different shapes, the tensors are [broadcast](https://numpy.org/doc/stable/user/basics.broadcasting.html) together, if possible. Notably, this allows to add or multiply tensors by scalars."
   ]
  },
  {
   "cell_type": "code",
   "execution_count": 204,
   "metadata": {},
   "outputs": [
    {
     "name": "stdout",
     "output_type": "stream",
     "text": [
      "tensor([2., 2., 2., 2., 2.])\n",
      "tensor([ 2.0381,  2.5426, -1.7042, -0.8269, -1.0520])\n",
      "tensor([[ 0.4405,  0.8049, -1.3507, -0.9732, -0.6078],\n",
      "        [ 0.5697,  0.9208, -1.1483, -0.8551, -0.9492],\n",
      "        [ 0.7395,  0.8895, -1.7752, -0.8555, -0.8323]])\n"
     ]
    }
   ],
   "source": [
    "# add a scalar\n",
    "print(v1 + 1)\n",
    "\n",
    "# multiply by scalar\n",
    "print(v2 * 2)\n",
    "\n",
    "# broadcast substraction between vector and matrix\n",
    "print(v2 - m1)"
   ]
  },
  {
   "cell_type": "markdown",
   "metadata": {},
   "source": [
    "Another basic operation with tensors is the inner product, denoted by the symbol `@`."
   ]
  },
  {
   "cell_type": "code",
   "execution_count": 205,
   "metadata": {},
   "outputs": [
    {
     "name": "stdout",
     "output_type": "stream",
     "text": [
      "tensor(0.4988)\n",
      "tensor([ 0.4832,  0.2458, -0.3601])\n",
      "tensor([[0.5786, 0.4664, 0.4986, 0.5598, 0.0818],\n",
      "        [0.4493, 0.3505, 0.2963, 0.4417, 0.4232],\n",
      "        [0.2796, 0.3818, 0.9231, 0.4420, 0.3063]])\n"
     ]
    }
   ],
   "source": [
    "# scalar product between v1 and v2\n",
    "print(v1 @ v2)\n",
    "\n",
    "# matrix-vector product between m1 and v2\n",
    "print(m1 @ v2)\n",
    "\n",
    "# matrix-matrix product between m1 and m2\n",
    "print(m1 @ m2)"
   ]
  },
  {
   "cell_type": "markdown",
   "metadata": {},
   "source": [
    "#### Aggregation\n",
    "\n",
    "Common operations are to aggregate the values of a tensor along a dimension into a single value. For instance, computing the sum of the rows of a matrix . A lot of aggregation methods such as `.sum`, `.prod`, `.mean`, `.max`, ... are available."
   ]
  },
  {
   "cell_type": "code",
   "execution_count": 206,
   "metadata": {},
   "outputs": [
    {
     "name": "stdout",
     "output_type": "stream",
     "text": [
      "tensor([2.1851, 1.9609, 2.3328])\n",
      "tensor([0.2000, 0.2000, 0.2000, 0.2000, 0.2000])\n",
      "tensor(-0.2401)\n"
     ]
    }
   ],
   "source": [
    "# sum of rows of m1\n",
    "print(m1.sum(dim=1))\n",
    "\n",
    "# mean of columns of m2\n",
    "print(m2.mean(dim=0))\n",
    "\n",
    "# prod of the elements of v2\n",
    "print(v2.prod())"
   ]
  },
  {
   "cell_type": "markdown",
   "metadata": {},
   "source": [
    "#### Indexing\n",
    "\n",
    "Sometimes you would like to extract a sub-tensor from the tensor. This operation is called *slicing*."
   ]
  },
  {
   "cell_type": "code",
   "execution_count": 207,
   "metadata": {},
   "outputs": [
    {
     "name": "stdout",
     "output_type": "stream",
     "text": [
      "tensor([1., 1.])\n",
      "tensor([ 1.0190,  1.2713, -0.8521, -0.4135])\n"
     ]
    }
   ],
   "source": [
    "# extract elements 0 (included) to 2 (not included)\n",
    "print(v1[0:2])\n",
    "\n",
    "# extract all elements but the last\n",
    "print(v2[:-1])"
   ]
  },
  {
   "cell_type": "markdown",
   "metadata": {},
   "source": [
    "You may also extract a subset of the elements by passing a list of indices."
   ]
  },
  {
   "cell_type": "code",
   "execution_count": 208,
   "metadata": {},
   "outputs": [
    {
     "data": {
      "text/plain": [
       "tensor([ 1.0190, -0.4135, -0.5260])"
      ]
     },
     "execution_count": 208,
     "metadata": {},
     "output_type": "execute_result"
    }
   ],
   "source": [
    "# extract the first, fourth and fifth elements\n",
    "v2[[0, 3, 4]]"
   ]
  },
  {
   "cell_type": "markdown",
   "metadata": {},
   "source": [
    "Matrices can also be sliced/indexed."
   ]
  },
  {
   "cell_type": "code",
   "execution_count": 209,
   "metadata": {},
   "outputs": [
    {
     "data": {
      "text/plain": [
       "tensor([[0.4986, 0.5598],\n",
       "        [0.2963, 0.4417],\n",
       "        [0.9231, 0.4420]])"
      ]
     },
     "execution_count": 209,
     "metadata": {},
     "output_type": "execute_result"
    }
   ],
   "source": [
    "m1[:4, 2:-1]"
   ]
  },
  {
   "cell_type": "markdown",
   "metadata": {},
   "source": [
    "#### Squeeze and Unsqueeze\n",
    "\n",
    "Squeezing removes dimensions of size 1 from tensors. Unsqueezing adds a dimension of size 1."
   ]
  },
  {
   "cell_type": "code",
   "execution_count": 210,
   "metadata": {},
   "outputs": [
    {
     "name": "stdout",
     "output_type": "stream",
     "text": [
      "torch.Size([3, 5])\n",
      "torch.Size([3, 1, 5])\n",
      "torch.Size([3, 5])\n"
     ]
    }
   ],
   "source": [
    "# before unsqueeze\n",
    "print(m1.shape)\n",
    "\n",
    "# after unsqueeze\n",
    "m1 = m1.unsqueeze(1)\n",
    "print(m1.shape)\n",
    "\n",
    "# after squeeze\n",
    "m1 = m1.squeeze(1)\n",
    "print(m1.shape)"
   ]
  },
  {
   "cell_type": "markdown",
   "metadata": {},
   "source": [
    "#### View\n",
    "\n",
    "Sometimes, tensors don't have the correct shape. For example, you might want to process 3x32x32 images as vectors of 3072 elements. The `.view` method returns a new tensor with the same data, but of a different shape."
   ]
  },
  {
   "cell_type": "code",
   "execution_count": 211,
   "metadata": {},
   "outputs": [
    {
     "name": "stdout",
     "output_type": "stream",
     "text": [
      "torch.Size([10, 3, 32, 32])\n",
      "torch.Size([10, 3072])\n"
     ]
    }
   ],
   "source": [
    "images = torch.rand(10, 3, 32, 32)\n",
    "print(images.shape)\n",
    "\n",
    "images_as_vectors = images.view(10, -1)\n",
    "print(images_as_vectors.shape)"
   ]
  },
  {
   "cell_type": "markdown",
   "metadata": {},
   "source": [
    "However, both tensors share the same underlying data, meaning that modifying one in-place will also modify the other."
   ]
  },
  {
   "cell_type": "code",
   "execution_count": 212,
   "metadata": {},
   "outputs": [
    {
     "data": {
      "text/plain": [
       "tensor([0., 0., 0.,  ..., 0., 0., 0.])"
      ]
     },
     "execution_count": 212,
     "metadata": {},
     "output_type": "execute_result"
    }
   ],
   "source": [
    "images[0, :] = torch.zeros_like(images[0])\n",
    "images_as_vectors[0]"
   ]
  },
  {
   "cell_type": "markdown",
   "metadata": {},
   "source": [
    "It should be noted that slicing, indexing and squeezing operations actually create views of the tensor instead of making copies of the data. For a complete list of view operations in `torch`, see the [documentation](https://pytorch.org/docs/stable/tensor_view.html)."
   ]
  },
  {
   "cell_type": "markdown",
   "metadata": {},
   "source": [
    "#### Other primitives\n",
    "\n",
    "A **lot** of useful primitives are available in `torch`. Notable examples are [exp](https://pytorch.org/docs/stable/generated/torch.exp.html), [log](https://pytorch.org/docs/stable/generated/torch.log.html), [sqrt](https://pytorch.org/docs/stable/generated/torch.sqrt.html), [ceil](https://pytorch.org/docs/stable/generated/torch.ceil.html), [clamp](https://pytorch.org/docs/stable/generated/torch.expand.html), [sort](https://pytorch.org/docs/stable/generated/torch.sort.html), [argmax](https://pytorch.org/docs/stable/generated/torch.argmax.html), [stack](https://pytorch.org/docs/stable/generated/torch.stack.html), [cat](https://pytorch.org/docs/stable/generated/torch.cat.html), [where](https://pytorch.org/docs/stable/generated/torch.where.html) and so on. Always take a look at the [documentation](https://pytorch.org/docs/stable/index.html) before implementing something. And don't forget: Google is your best friend!"
   ]
  },
  {
   "cell_type": "markdown",
   "metadata": {},
   "source": [
    "### 1.3 Try it yourself!"
   ]
  },
  {
   "cell_type": "markdown",
   "metadata": {},
   "source": [
    "Create a tensor `samples` with $10^{5}$ i.i.d. normally (mean 5 and standard deviation 2) distributed values."
   ]
  },
  {
   "cell_type": "code",
   "execution_count": 213,
   "metadata": {},
   "outputs": [
    {
     "name": "stdout",
     "output_type": "stream",
     "text": [
      "tensor([4.9983, 5.1555, 7.8125,  ..., 0.9806, 3.8813, 6.4787])\n"
     ]
    }
   ],
   "source": [
    "samples = torch.normal(5,2, size=(10**5,))\n",
    "print(samples)"
   ]
  },
  {
   "cell_type": "markdown",
   "metadata": {},
   "source": [
    "Extract the first 42 elements of `samples`."
   ]
  },
  {
   "cell_type": "code",
   "execution_count": 214,
   "metadata": {},
   "outputs": [
    {
     "name": "stdout",
     "output_type": "stream",
     "text": [
      "tensor([4.9983, 5.1555, 7.8125, 5.4635, 8.5339, 6.9854, 4.0116, 3.9197, 8.3434,\n",
      "        7.9854, 3.6178, 9.8025, 3.3046, 5.9603, 7.1311, 6.3810, 4.8206, 3.0463,\n",
      "        5.8043, 6.2104, 6.5404, 2.7572, 3.4087, 3.2368, 4.2856, 3.7203, 6.6353,\n",
      "        3.5676, 4.6702, 4.6229, 3.7950, 2.0711, 4.9284, 3.1805, 6.8345, 7.3514,\n",
      "        7.6669, 2.1102, 7.2069, 5.5334, 3.0667, 4.6988])\n"
     ]
    }
   ],
   "source": [
    "first_42_elements = samples[:42]\n",
    "print(first_42_elements)"
   ]
  },
  {
   "cell_type": "markdown",
   "metadata": {},
   "source": [
    "Extract the last 666 elements of `samples`."
   ]
  },
  {
   "cell_type": "code",
   "execution_count": 215,
   "metadata": {},
   "outputs": [
    {
     "name": "stdout",
     "output_type": "stream",
     "text": [
      "tensor([ 6.2946,  6.1792,  2.9211,  3.3447,  5.3388,  1.5101,  5.5575,  2.8844,\n",
      "         5.9510,  2.8470,  5.4195,  4.0466,  2.9569,  5.1991,  7.2261,  4.8677,\n",
      "         6.7341,  3.5719,  6.2560,  5.3814,  4.7856,  3.9966,  5.2086,  5.4080,\n",
      "         2.4540,  6.4732,  7.9778,  7.1023,  1.0660,  4.3490,  8.2975,  3.3186,\n",
      "         4.7738,  5.3257,  5.0614,  4.5018,  4.4208,  5.6868,  7.3866,  1.3862,\n",
      "         3.7582,  5.1597,  7.1077,  9.7933,  2.9709,  5.9819,  6.2566,  4.0395,\n",
      "         5.8779,  2.7955,  5.3292,  5.3345,  5.0008,  6.2495,  5.1488,  6.7808,\n",
      "         6.0401,  5.0085,  3.6279,  6.2080,  8.8656,  2.5906,  3.7801,  4.4750,\n",
      "         6.4565,  4.4357,  3.5557,  2.6127,  4.7628,  6.6483,  2.5148,  8.4521,\n",
      "         6.0835,  4.5577,  3.2419,  5.4778,  6.0592,  2.8214,  1.9071,  5.0115,\n",
      "         8.2365,  5.6370,  1.5468,  0.8021,  5.0246,  6.9241,  0.1241,  2.7917,\n",
      "         7.9622,  3.3790,  6.0077,  4.1893,  8.3280,  5.3550,  5.0640,  4.7052,\n",
      "         6.8582,  1.9473,  7.2804,  1.5755,  6.1930,  5.1193,  4.6492,  5.4305,\n",
      "         0.0754,  7.2153,  4.6055,  2.1658,  7.5145,  4.3351,  4.9112,  2.4620,\n",
      "         3.7867,  3.4227,  7.4274,  6.4026,  8.6362,  2.8984,  6.0165,  5.2517,\n",
      "         1.4692,  8.6798,  5.2746,  7.6337,  7.4174,  1.9036, 10.6695,  3.8710,\n",
      "         8.3232,  5.6488,  5.6171,  4.3244,  7.6341,  6.4228,  4.1847,  2.5979,\n",
      "         6.6896,  3.3059,  6.3388,  2.9485,  4.4597,  3.1744,  1.5732,  5.0355,\n",
      "         6.0281,  3.2000,  9.3609,  6.2888,  6.7708,  4.1847,  5.1204,  4.2963,\n",
      "         3.9934,  5.5716,  5.7099,  4.5534,  2.4409,  2.7287,  6.8058,  4.6521,\n",
      "         7.8751,  6.3373,  3.5000,  2.1035,  4.2750,  5.8330,  2.9263,  2.5191,\n",
      "         5.6509,  4.5595,  2.9177,  4.5814,  6.0252,  6.3088,  5.0247,  2.0723,\n",
      "         0.9342,  6.0009,  5.5228,  0.4040,  3.6526,  3.6890,  4.7727,  3.3659,\n",
      "         7.2639,  5.3473,  2.8506,  2.5842,  8.1875,  3.8653,  5.1616,  3.1613,\n",
      "         4.0525,  6.6605,  5.3483,  9.1426,  5.3392,  3.9093,  2.9976,  8.9070,\n",
      "         1.5228,  4.0937,  5.2743,  6.8900,  5.0371,  8.1046,  6.0361,  7.2927,\n",
      "         3.8005,  6.7133,  5.0836,  4.4131,  4.6681,  7.2099,  5.8455,  3.0633,\n",
      "         7.7256,  6.4562,  2.2261,  8.0603,  4.2727,  3.8866,  2.6234,  4.1102,\n",
      "         5.4943,  7.1111,  6.4089,  1.3298,  5.0827,  5.7290,  3.4138,  6.5263,\n",
      "         4.8931,  3.3484,  6.0686,  6.7823,  1.0688,  2.5534,  5.5791,  3.6769,\n",
      "         6.0636,  2.8669,  1.1646,  4.8312,  5.3906,  6.3710,  7.9344,  7.4303,\n",
      "         5.8672,  5.6306,  9.6691,  6.0041,  4.8520,  4.3257,  6.7602,  3.9470,\n",
      "         5.6293,  1.5228,  7.7214,  6.3424,  5.2690,  4.5838,  4.2789,  6.2455,\n",
      "         3.2399,  2.5253,  3.0015,  2.9431,  4.7658,  6.9740,  6.5517,  5.1316,\n",
      "         3.3852,  6.4777,  4.2013,  6.9863,  4.2984,  4.0989,  6.2559,  7.7346,\n",
      "         4.3646,  4.5196,  1.5565,  7.9623,  5.1276,  4.4837,  2.0174,  8.1992,\n",
      "         6.6310,  5.3582,  5.0711,  3.3262,  1.0042,  6.2019,  8.5549,  8.0289,\n",
      "         4.1100,  4.8220,  5.2139,  6.8410,  4.6089,  6.8923,  7.5800,  6.8681,\n",
      "         4.5722,  6.5129,  4.9027,  6.8945,  5.8565,  4.3723,  5.2645,  7.7702,\n",
      "         3.0211,  3.2839,  8.4361,  5.4916,  6.9441,  7.7904,  5.3889,  1.1539,\n",
      "         4.8266,  3.4958,  4.3421,  5.7118,  4.1072,  3.1744,  5.3988,  6.5198,\n",
      "         2.1926,  6.3813,  6.7632,  4.7516,  5.6294,  4.9704,  4.7512,  3.5201,\n",
      "         6.9195,  2.9591,  2.2596,  6.0856,  2.5009,  3.7822,  5.8901,  7.4678,\n",
      "         7.5248,  4.5405,  5.0418,  5.3349,  3.7539,  5.2444,  5.5405,  1.5325,\n",
      "         4.9210,  8.5863,  2.5200,  2.9450,  5.4940,  5.0296,  4.2973,  7.7533,\n",
      "         0.8359,  4.1742,  7.9381,  3.8653,  4.6863,  3.0841,  2.7540,  3.0782,\n",
      "         4.7426,  5.2597,  4.8629,  1.7826,  4.3191,  1.7907,  4.9539,  5.3089,\n",
      "         4.6326,  3.8913,  8.8069,  7.3994,  6.2966,  0.2927,  5.5873,  2.8859,\n",
      "         5.5001,  4.5445,  5.1107,  8.1313,  5.2135,  4.6482,  3.5600,  5.3556,\n",
      "         6.3146,  5.2332,  3.9751,  4.0397,  3.5950,  4.8197,  1.9298,  3.9494,\n",
      "         8.0847,  4.8482,  8.5969,  6.9052,  6.5491,  3.3303,  5.3978,  5.6999,\n",
      "         9.0577,  7.3726,  5.2461,  4.6467,  4.0397,  7.0306,  5.3579,  2.9505,\n",
      "         7.9133,  3.0339,  4.6022,  5.8293,  5.1065,  3.0802, 11.0874,  7.6701,\n",
      "         5.9606,  3.3501,  5.2867,  6.5514,  6.9807,  2.5941,  3.7842,  4.9242,\n",
      "         5.9453,  5.2720,  7.1201,  4.1701,  2.4685,  8.2473,  5.9881,  3.7193,\n",
      "         7.5448,  3.1311,  4.7939,  8.2726,  6.0493,  8.0954,  5.8248,  2.6215,\n",
      "         3.9193,  3.8816,  3.4190,  2.9208,  9.2878,  3.7971,  3.9525,  7.2571,\n",
      "         2.9905,  3.1877,  6.1349,  2.0224,  6.1843,  4.3470,  4.0959,  4.6378,\n",
      "         1.1274,  5.0249,  4.6223,  3.4825,  3.9141,  7.8732,  1.8646,  2.5489,\n",
      "         5.2057,  4.6852,  4.5786,  5.7432,  6.3458,  9.9725,  2.2450,  3.3892,\n",
      "         6.0648,  3.6867,  4.8195,  8.9269,  8.6913,  3.4622,  3.1161,  5.3587,\n",
      "         4.8037,  5.4248,  3.9605,  4.2888,  6.8263,  3.1804,  8.7093,  3.1486,\n",
      "         5.8578,  6.3693,  8.7252,  3.8499,  1.4221,  2.4828,  5.6139,  4.4188,\n",
      "         4.1739,  5.0247,  2.7661,  6.5209,  5.7647,  6.7076,  8.6754,  7.3324,\n",
      "         5.0488,  3.2052,  1.2909,  5.2418,  5.1880,  5.7297,  6.8219,  5.2031,\n",
      "         3.5802,  4.8469,  4.7786,  2.5969, 10.2123,  4.3806,  6.5170,  6.7933,\n",
      "         4.7122,  6.2306,  6.2208,  1.4604,  1.9730,  5.6684,  3.3733,  6.2221,\n",
      "         3.1572,  4.8367,  4.8722,  2.5792,  5.8678,  5.0710,  2.2087,  7.8131,\n",
      "         9.8394,  2.2222,  6.7828,  4.4046,  4.5685,  6.7129,  7.1152,  4.3110,\n",
      "         3.4318,  2.4035,  4.2332,  3.3298,  4.4858,  2.9176,  5.5766,  6.7550,\n",
      "         6.0205,  2.7941,  6.5248,  7.0610,  2.9965,  6.7493,  9.3076, 10.4539,\n",
      "         5.1458,  5.9351,  8.8218,  3.5636,  6.3787,  9.1750,  5.1010,  0.4489,\n",
      "         4.2932,  5.8625,  2.8982,  4.7619,  5.0828,  4.7355,  4.0350,  3.9226,\n",
      "         8.4288,  5.5779,  1.8093,  8.1937,  3.6527,  6.3573,  2.8084,  5.5448,\n",
      "         4.9959,  5.0186,  4.4862,  4.0989,  7.1668,  7.7265,  5.6099,  4.6134,\n",
      "         8.5424,  1.7856,  6.3276,  2.9340,  3.1149,  8.9598,  4.5725,  4.4249,\n",
      "         8.1598,  2.2286,  4.5862,  4.1854,  7.5032,  2.8974,  4.1190,  3.3690,\n",
      "         5.9110,  3.2177,  7.2384,  5.8871,  4.5005,  5.7940,  2.9207,  5.4879,\n",
      "         8.0254,  6.4484,  2.2216, 10.6481,  5.8307,  6.5148,  4.5967,  5.0161,\n",
      "         1.6899,  4.3257,  4.3832,  4.8889,  1.4077,  4.6414,  3.7795,  4.2369,\n",
      "         7.5178,  6.2845,  4.6874,  6.8768,  6.1760,  6.4760,  6.8939,  6.8760,\n",
      "         7.5567,  3.6614,  8.9881,  3.1869,  4.1699,  3.0298,  5.2757,  5.1938,\n",
      "         3.4912,  5.9896,  7.1107,  4.7317,  4.8604,  6.3282,  3.2009,  0.9806,\n",
      "         3.8813,  6.4787])\n"
     ]
    }
   ],
   "source": [
    "last_666_elements = samples[-666:]\n",
    "print(last_666_elements)"
   ]
  },
  {
   "cell_type": "markdown",
   "metadata": {},
   "source": [
    "Extract all the elements of `samples` that have an odd index."
   ]
  },
  {
   "cell_type": "code",
   "execution_count": 216,
   "metadata": {},
   "outputs": [
    {
     "name": "stdout",
     "output_type": "stream",
     "text": [
      "tensor([5.1555, 5.4635, 6.9854,  ..., 6.3282, 0.9806, 6.4787])\n"
     ]
    }
   ],
   "source": [
    "odd_index_elements = samples[1::2]\n",
    "print(odd_index_elements)"
   ]
  },
  {
   "cell_type": "markdown",
   "metadata": {},
   "source": [
    "Create a view of shape 10x1000x10 of `samples`."
   ]
  },
  {
   "cell_type": "code",
   "execution_count": 217,
   "metadata": {},
   "outputs": [
    {
     "name": "stdout",
     "output_type": "stream",
     "text": [
      "tensor([[[ 4.9983,  5.1555,  7.8125,  ...,  3.9197,  8.3434,  7.9854],\n",
      "         [ 3.6178,  9.8025,  3.3046,  ...,  3.0463,  5.8043,  6.2104],\n",
      "         [ 6.5404,  2.7572,  3.4087,  ...,  3.5676,  4.6702,  4.6229],\n",
      "         ...,\n",
      "         [ 2.9036,  4.3377,  1.6940,  ...,  6.4398,  1.8242,  3.2099],\n",
      "         [ 4.8338,  1.0214,  4.8124,  ...,  4.1612,  2.4666,  3.9353],\n",
      "         [ 5.3570,  3.2617,  0.6996,  ...,  4.2687,  8.4300,  4.7449]],\n",
      "\n",
      "        [[ 5.7499, 10.2829,  9.5481,  ...,  4.6436,  5.4661,  3.5934],\n",
      "         [ 2.4509,  5.2539,  6.7439,  ...,  1.8923,  4.5501,  7.4412],\n",
      "         [ 6.6677,  3.8431,  9.2502,  ...,  3.3037,  7.8370,  4.7952],\n",
      "         ...,\n",
      "         [-0.2506,  3.6071,  4.5081,  ..., 10.5326,  7.0551,  7.6091],\n",
      "         [ 4.9844,  4.6481,  5.0629,  ...,  8.4943,  5.0998,  7.2884],\n",
      "         [ 4.4475,  5.8314,  5.6740,  ...,  2.2478,  7.2992,  3.5768]],\n",
      "\n",
      "        [[ 3.5995,  7.9820,  5.9563,  ...,  4.8696,  2.9423,  3.9264],\n",
      "         [ 3.1466,  6.9715,  3.5991,  ...,  5.4483,  3.5699,  3.8080],\n",
      "         [ 7.0811,  2.9426,  5.5204,  ...,  3.7351,  3.5250,  6.0604],\n",
      "         ...,\n",
      "         [ 2.9679,  3.4918,  5.6705,  ...,  3.5424,  7.7330,  3.1373],\n",
      "         [ 1.1152,  6.5113,  4.9345,  ...,  5.5459,  4.3204,  3.7426],\n",
      "         [ 7.4646,  2.2963,  4.4958,  ...,  4.5379,  4.3918,  8.7214]],\n",
      "\n",
      "        ...,\n",
      "\n",
      "        [[ 8.3962,  7.0725,  5.1153,  ...,  7.4553,  6.1572,  6.0263],\n",
      "         [ 0.0577,  5.7179,  3.0875,  ...,  6.8601,  7.2920,  3.0776],\n",
      "         [ 8.3900,  6.0554,  8.3230,  ...,  4.9706,  6.4527,  2.0311],\n",
      "         ...,\n",
      "         [ 6.9390,  3.0661,  7.5554,  ...,  5.4316,  6.0412,  5.1273],\n",
      "         [ 5.6303,  2.8170,  2.4036,  ...,  4.1592,  5.8886,  5.5591],\n",
      "         [ 4.8725,  3.0357,  5.9709,  ...,  7.1023,  6.7719,  8.1008]],\n",
      "\n",
      "        [[ 6.6171,  3.4912,  6.6100,  ...,  4.3858,  5.9272,  6.0690],\n",
      "         [ 4.5429,  5.1121,  1.6739,  ...,  3.4605,  4.8796,  4.0163],\n",
      "         [ 0.8448,  0.9578,  0.0205,  ...,  5.9653,  4.6663,  6.5586],\n",
      "         ...,\n",
      "         [ 2.1725,  5.3668,  3.9705,  ...,  6.7863,  7.7745,  6.7745],\n",
      "         [ 5.6054,  5.0325,  6.0916,  ...,  1.6761,  5.2191,  4.5448],\n",
      "         [ 5.0097,  3.5469,  5.7087,  ...,  0.6842,  4.5264,  5.2768]],\n",
      "\n",
      "        [[ 7.5974,  4.5795,  4.9354,  ...,  4.6932,  5.4998,  5.8624],\n",
      "         [ 6.2274,  7.1622,  5.4870,  ...,  5.1849,  4.7904,  6.8825],\n",
      "         [ 2.7264,  2.1940,  3.6866,  ...,  4.4152,  6.0205,  8.4355],\n",
      "         ...,\n",
      "         [ 1.4077,  4.6414,  3.7795,  ...,  6.8768,  6.1760,  6.4760],\n",
      "         [ 6.8939,  6.8760,  7.5567,  ...,  3.0298,  5.2757,  5.1938],\n",
      "         [ 3.4912,  5.9896,  7.1107,  ...,  0.9806,  3.8813,  6.4787]]])\n"
     ]
    }
   ],
   "source": [
    "view_samples = samples.view(10, 1000, 10)\n",
    "print(view_samples)"
   ]
  },
  {
   "cell_type": "markdown",
   "metadata": {},
   "source": [
    "Compute the mean of `samples` using a `for` loop:"
   ]
  },
  {
   "cell_type": "code",
   "execution_count": 218,
   "metadata": {},
   "outputs": [
    {
     "name": "stdout",
     "output_type": "stream",
     "text": [
      "tensor(6.4787e-05)\n",
      "tensor(6.4787e-05)\n",
      "tensor(6.4787e-05)\n",
      "tensor(6.4787e-05)\n",
      "tensor(6.4787e-05)\n",
      "tensor(6.4787e-05)\n",
      "tensor(6.4787e-05)\n",
      "tensor(6.4787e-05)\n",
      "353 ms ± 47.4 ms per loop (mean ± std. dev. of 7 runs, 1 loop each)\n"
     ]
    }
   ],
   "source": [
    "%%timeit\n",
    "\n",
    "sum = 0\n",
    "for sample in samples:\n",
    "    sum = sample\n",
    "\n",
    "mean = sum/len(samples)\n",
    "print(mean)"
   ]
  },
  {
   "cell_type": "markdown",
   "metadata": {},
   "source": [
    "Compute the mean and standard deviation of `samples` with the appropriate PyTorch operators:"
   ]
  },
  {
   "cell_type": "code",
   "execution_count": 219,
   "metadata": {},
   "outputs": [
    {
     "name": "stdout",
     "output_type": "stream",
     "text": [
      "tensor(5.0060)\n",
      "tensor(2.0004)\n",
      "tensor(5.0060)\n",
      "tensor(2.0004)\n",
      "tensor(5.0060)\n",
      "tensor(2.0004)\n",
      "tensor(5.0060)\n",
      "tensor(2.0004)\n",
      "tensor(5.0060)\n",
      "tensor(2.0004)\n",
      "tensor(5.0060)\n",
      "tensor(2.0004)\n",
      "tensor(5.0060)\n",
      "tensor(2.0004)\n",
      "tensor(5.0060)\n",
      "tensor(2.0004)\n",
      "tensor(5.0060)\n",
      "tensor(2.0004)\n",
      "tensor(5.0060)\n",
      "tensor(2.0004)\n",
      "tensor(5.0060)\n",
      "tensor(2.0004)\n",
      "tensor(5.0060)\n",
      "tensor(2.0004)\n",
      "tensor(5.0060)\n",
      "tensor(2.0004)\n",
      "tensor(5.0060)\n",
      "tensor(2.0004)\n",
      "tensor(5.0060)\n",
      "tensor(2.0004)\n",
      "tensor(5.0060)\n",
      "tensor(2.0004)\n",
      "tensor(5.0060)\n",
      "tensor(2.0004)\n",
      "tensor(5.0060)\n",
      "tensor(2.0004)\n",
      "tensor(5.0060)\n",
      "tensor(2.0004)\n",
      "tensor(5.0060)\n",
      "tensor(2.0004)\n",
      "tensor(5.0060)\n",
      "tensor(2.0004)\n",
      "tensor(5.0060)\n",
      "tensor(2.0004)\n",
      "tensor(5.0060)\n",
      "tensor(2.0004)\n",
      "tensor(5.0060)\n",
      "tensor(2.0004)\n",
      "tensor(5.0060)\n",
      "tensor(2.0004)\n",
      "tensor(5.0060)\n",
      "tensor(2.0004)\n",
      "tensor(5.0060)\n",
      "tensor(2.0004)\n",
      "tensor(5.0060)\n",
      "tensor(2.0004)\n",
      "tensor(5.0060)\n",
      "tensor(2.0004)\n",
      "tensor(5.0060)\n",
      "tensor(2.0004)\n",
      "tensor(5.0060)\n",
      "tensor(2.0004)\n",
      "tensor(5.0060)\n",
      "tensor(2.0004)\n",
      "tensor(5.0060)\n",
      "tensor(2.0004)\n",
      "tensor(5.0060)\n",
      "tensor(2.0004)\n",
      "tensor(5.0060)\n",
      "tensor(2.0004)\n",
      "tensor(5.0060)\n",
      "tensor(2.0004)\n",
      "tensor(5.0060)\n",
      "tensor(2.0004)\n",
      "tensor(5.0060)\n",
      "tensor(2.0004)\n",
      "tensor(5.0060)\n",
      "tensor(2.0004)\n",
      "tensor(5.0060)\n",
      "tensor(2.0004)\n",
      "tensor(5.0060)\n",
      "tensor(2.0004)\n",
      "tensor(5.0060)\n",
      "tensor(2.0004)\n",
      "tensor(5.0060)\n",
      "tensor(2.0004)\n",
      "tensor(5.0060)\n",
      "tensor(2.0004)\n",
      "tensor(5.0060)\n",
      "tensor(2.0004)\n",
      "tensor(5.0060)\n",
      "tensor(2.0004)\n",
      "tensor(5.0060)\n",
      "tensor(2.0004)\n",
      "tensor(5.0060)\n",
      "tensor(2.0004)\n",
      "tensor(5.0060)\n",
      "tensor(2.0004)\n",
      "tensor(5.0060)\n",
      "tensor(2.0004)\n",
      "tensor(5.0060)\n",
      "tensor(2.0004)\n",
      "tensor(5.0060)\n",
      "tensor(2.0004)\n",
      "tensor(5.0060)\n",
      "tensor(2.0004)\n",
      "tensor(5.0060)\n",
      "tensor(2.0004)\n",
      "tensor(5.0060)\n",
      "tensor(2.0004)\n",
      "tensor(5.0060)\n",
      "tensor(2.0004)\n",
      "tensor(5.0060)\n",
      "tensor(2.0004)\n",
      "tensor(5.0060)\n",
      "tensor(2.0004)\n",
      "tensor(5.0060)\n",
      "tensor(2.0004)\n",
      "tensor(5.0060)\n",
      "tensor(2.0004)\n",
      "tensor(5.0060)\n",
      "tensor(2.0004)\n",
      "tensor(5.0060)\n",
      "tensor(2.0004)\n",
      "tensor(5.0060)\n",
      "tensor(2.0004)\n",
      "tensor(5.0060)\n",
      "tensor(2.0004)\n",
      "tensor(5.0060)\n",
      "tensor(2.0004)\n",
      "tensor(5.0060)\n",
      "tensor(2.0004)\n",
      "tensor(5.0060)\n",
      "tensor(2.0004)\n",
      "tensor(5.0060)\n",
      "tensor(2.0004)\n",
      "tensor(5.0060)\n",
      "tensor(2.0004)\n",
      "tensor(5.0060)\n",
      "tensor(2.0004)\n",
      "tensor(5.0060)\n",
      "tensor(2.0004)\n",
      "tensor(5.0060)\n",
      "tensor(2.0004)\n",
      "tensor(5.0060)\n",
      "tensor(2.0004)\n",
      "tensor(5.0060)\n",
      "tensor(2.0004)\n",
      "tensor(5.0060)\n",
      "tensor(2.0004)\n",
      "tensor(5.0060)\n",
      "tensor(2.0004)\n",
      "tensor(5.0060)\n",
      "tensor(2.0004)\n",
      "tensor(5.0060)\n",
      "tensor(2.0004)\n",
      "tensor(5.0060)\n",
      "tensor(2.0004)\n",
      "tensor(5.0060)\n",
      "tensor(2.0004)\n",
      "tensor(5.0060)\n",
      "tensor(2.0004)\n",
      "tensor(5.0060)\n",
      "tensor(2.0004)\n",
      "tensor(5.0060)\n",
      "tensor(2.0004)\n",
      "tensor(5.0060)\n",
      "tensor(2.0004)\n",
      "tensor(5.0060)\n",
      "tensor(2.0004)\n",
      "tensor(5.0060)\n",
      "tensor(2.0004)\n",
      "tensor(5.0060)\n",
      "tensor(2.0004)\n",
      "tensor(5.0060)\n",
      "tensor(2.0004)\n",
      "tensor(5.0060)\n",
      "tensor(2.0004)\n",
      "tensor(5.0060)\n",
      "tensor(2.0004)\n",
      "tensor(5.0060)\n",
      "tensor(2.0004)\n",
      "tensor(5.0060)\n",
      "tensor(2.0004)\n",
      "tensor(5.0060)\n",
      "tensor(2.0004)\n",
      "tensor(5.0060)\n",
      "tensor(2.0004)\n",
      "tensor(5.0060)\n",
      "tensor(2.0004)\n",
      "tensor(5.0060)\n",
      "tensor(2.0004)\n",
      "tensor(5.0060)\n",
      "tensor(2.0004)\n",
      "tensor(5.0060)\n",
      "tensor(2.0004)\n",
      "tensor(5.0060)\n",
      "tensor(2.0004)\n",
      "tensor(5.0060)\n",
      "tensor(2.0004)\n",
      "tensor(5.0060)\n",
      "tensor(2.0004)\n",
      "tensor(5.0060)\n",
      "tensor(2.0004)\n",
      "tensor(5.0060)\n",
      "tensor(2.0004)\n",
      "tensor(5.0060)\n",
      "tensor(2.0004)\n",
      "tensor(5.0060)\n",
      "tensor(2.0004)\n",
      "tensor(5.0060)\n",
      "tensor(2.0004)\n",
      "tensor(5.0060)\n",
      "tensor(2.0004)\n",
      "tensor(5.0060)\n",
      "tensor(2.0004)\n",
      "tensor(5.0060)\n",
      "tensor(2.0004)\n",
      "tensor(5.0060)\n",
      "tensor(2.0004)\n",
      "tensor(5.0060)\n",
      "tensor(2.0004)\n",
      "tensor(5.0060)\n",
      "tensor(2.0004)\n",
      "tensor(5.0060)\n",
      "tensor(2.0004)\n",
      "tensor(5.0060)\n",
      "tensor(2.0004)\n",
      "tensor(5.0060)\n",
      "tensor(2.0004)\n",
      "tensor(5.0060)\n",
      "tensor(2.0004)\n",
      "tensor(5.0060)\n",
      "tensor(2.0004)\n",
      "tensor(5.0060)\n",
      "tensor(2.0004)\n",
      "tensor(5.0060)\n",
      "tensor(2.0004)\n",
      "tensor(5.0060)\n",
      "tensor(2.0004)\n",
      "tensor(5.0060)\n",
      "tensor(2.0004)\n",
      "tensor(5.0060)\n",
      "tensor(2.0004)\n",
      "tensor(5.0060)\n",
      "tensor(2.0004)\n",
      "tensor(5.0060)\n",
      "tensor(2.0004)\n",
      "tensor(5.0060)\n",
      "tensor(2.0004)\n",
      "tensor(5.0060)\n",
      "tensor(2.0004)\n",
      "tensor(5.0060)\n",
      "tensor(2.0004)\n",
      "tensor(5.0060)\n",
      "tensor(2.0004)\n",
      "tensor(5.0060)\n",
      "tensor(2.0004)\n",
      "tensor(5.0060)\n",
      "tensor(2.0004)\n",
      "tensor(5.0060)\n",
      "tensor(2.0004)\n",
      "tensor(5.0060)\n",
      "tensor(2.0004)\n",
      "tensor(5.0060)\n",
      "tensor(2.0004)\n",
      "tensor(5.0060)\n",
      "tensor(2.0004)\n",
      "tensor(5.0060)\n",
      "tensor(2.0004)\n",
      "tensor(5.0060)\n",
      "tensor(2.0004)\n",
      "tensor(5.0060)\n",
      "tensor(2.0004)\n",
      "tensor(5.0060)\n",
      "tensor(2.0004)\n",
      "tensor(5.0060)\n",
      "tensor(2.0004)\n",
      "tensor(5.0060)\n",
      "tensor(2.0004)\n",
      "tensor(5.0060)\n",
      "tensor(2.0004)\n",
      "tensor(5.0060)\n",
      "tensor(2.0004)\n",
      "tensor(5.0060)\n",
      "tensor(2.0004)\n",
      "tensor(5.0060)\n",
      "tensor(2.0004)\n",
      "tensor(5.0060)\n",
      "tensor(2.0004)\n",
      "tensor(5.0060)\n",
      "tensor(2.0004)\n",
      "tensor(5.0060)\n",
      "tensor(2.0004)\n",
      "tensor(5.0060)\n",
      "tensor(2.0004)\n",
      "tensor(5.0060)\n",
      "tensor(2.0004)\n",
      "tensor(5.0060)\n",
      "tensor(2.0004)\n",
      "tensor(5.0060)\n",
      "tensor(2.0004)\n",
      "tensor(5.0060)\n",
      "tensor(2.0004)\n",
      "tensor(5.0060)\n",
      "tensor(2.0004)\n",
      "tensor(5.0060)\n",
      "tensor(2.0004)\n",
      "tensor(5.0060)\n",
      "tensor(2.0004)\n",
      "tensor(5.0060)\n",
      "tensor(2.0004)\n",
      "tensor(5.0060)\n",
      "tensor(2.0004)\n",
      "tensor(5.0060)\n",
      "tensor(2.0004)\n",
      "tensor(5.0060)\n",
      "tensor(2.0004)\n",
      "tensor(5.0060)\n",
      "tensor(2.0004)\n",
      "tensor(5.0060)\n",
      "tensor(2.0004)\n",
      "tensor(5.0060)\n",
      "tensor(2.0004)\n",
      "tensor(5.0060)\n",
      "tensor(2.0004)\n",
      "tensor(5.0060)\n",
      "tensor(2.0004)\n",
      "tensor(5.0060)\n",
      "tensor(2.0004)\n",
      "tensor(5.0060)\n",
      "tensor(2.0004)\n",
      "tensor(5.0060)\n",
      "tensor(2.0004)\n",
      "tensor(5.0060)\n",
      "tensor(2.0004)\n",
      "tensor(5.0060)\n",
      "tensor(2.0004)\n",
      "tensor(5.0060)\n",
      "tensor(2.0004)\n",
      "tensor(5.0060)\n",
      "tensor(2.0004)\n",
      "tensor(5.0060)\n",
      "tensor(2.0004)\n",
      "tensor(5.0060)\n",
      "tensor(2.0004)\n",
      "tensor(5.0060)\n",
      "tensor(2.0004)\n",
      "tensor(5.0060)\n",
      "tensor(2.0004)\n",
      "tensor(5.0060)\n",
      "tensor(2.0004)\n",
      "tensor(5.0060)\n",
      "tensor(2.0004)\n",
      "tensor(5.0060)\n",
      "tensor(2.0004)\n",
      "tensor(5.0060)\n",
      "tensor(2.0004)\n",
      "tensor(5.0060)\n",
      "tensor(2.0004)\n",
      "tensor(5.0060)\n",
      "tensor(2.0004)\n",
      "tensor(5.0060)\n",
      "tensor(2.0004)\n",
      "tensor(5.0060)\n",
      "tensor(2.0004)\n",
      "tensor(5.0060)\n",
      "tensor(2.0004)\n",
      "tensor(5.0060)\n",
      "tensor(2.0004)\n",
      "tensor(5.0060)\n",
      "tensor(2.0004)\n",
      "tensor(5.0060)\n",
      "tensor(2.0004)\n",
      "tensor(5.0060)\n",
      "tensor(2.0004)\n",
      "tensor(5.0060)\n",
      "tensor(2.0004)\n",
      "tensor(5.0060)\n",
      "tensor(2.0004)\n",
      "tensor(5.0060)\n",
      "tensor(2.0004)\n",
      "tensor(5.0060)\n",
      "tensor(2.0004)\n",
      "tensor(5.0060)\n",
      "tensor(2.0004)\n",
      "tensor(5.0060)\n",
      "tensor(2.0004)\n",
      "tensor(5.0060)\n",
      "tensor(2.0004)\n",
      "tensor(5.0060)\n",
      "tensor(2.0004)\n",
      "tensor(5.0060)\n",
      "tensor(2.0004)\n",
      "tensor(5.0060)\n",
      "tensor(2.0004)\n",
      "tensor(5.0060)\n",
      "tensor(2.0004)\n",
      "tensor(5.0060)\n",
      "tensor(2.0004)\n",
      "tensor(5.0060)\n",
      "tensor(2.0004)\n",
      "tensor(5.0060)\n",
      "tensor(2.0004)\n",
      "tensor(5.0060)\n",
      "tensor(2.0004)\n",
      "tensor(5.0060)\n",
      "tensor(2.0004)\n",
      "tensor(5.0060)\n",
      "tensor(2.0004)\n",
      "tensor(5.0060)\n",
      "tensor(2.0004)\n",
      "tensor(5.0060)\n",
      "tensor(2.0004)\n",
      "tensor(5.0060)\n",
      "tensor(2.0004)\n",
      "tensor(5.0060)\n",
      "tensor(2.0004)\n",
      "tensor(5.0060)\n",
      "tensor(2.0004)\n",
      "tensor(5.0060)\n",
      "tensor(2.0004)\n",
      "tensor(5.0060)\n",
      "tensor(2.0004)\n",
      "tensor(5.0060)\n",
      "tensor(2.0004)\n",
      "tensor(5.0060)\n",
      "tensor(2.0004)\n",
      "tensor(5.0060)\n",
      "tensor(2.0004)\n",
      "tensor(5.0060)\n",
      "tensor(2.0004)\n",
      "tensor(5.0060)\n",
      "tensor(2.0004)\n",
      "tensor(5.0060)\n",
      "tensor(2.0004)\n",
      "tensor(5.0060)\n",
      "tensor(2.0004)\n",
      "tensor(5.0060)\n",
      "tensor(2.0004)\n",
      "tensor(5.0060)\n",
      "tensor(2.0004)\n",
      "tensor(5.0060)\n",
      "tensor(2.0004)\n",
      "tensor(5.0060)\n",
      "tensor(2.0004)\n",
      "tensor(5.0060)\n",
      "tensor(2.0004)\n",
      "tensor(5.0060)\n",
      "tensor(2.0004)\n",
      "tensor(5.0060)\n",
      "tensor(2.0004)\n",
      "tensor(5.0060)\n",
      "tensor(2.0004)\n",
      "tensor(5.0060)\n",
      "tensor(2.0004)\n",
      "tensor(5.0060)\n",
      "tensor(2.0004)\n",
      "tensor(5.0060)\n",
      "tensor(2.0004)\n",
      "tensor(5.0060)\n",
      "tensor(2.0004)\n",
      "tensor(5.0060)\n",
      "tensor(2.0004)\n",
      "tensor(5.0060)\n",
      "tensor(2.0004)\n",
      "tensor(5.0060)\n",
      "tensor(2.0004)\n",
      "tensor(5.0060)\n",
      "tensor(2.0004)\n",
      "tensor(5.0060)\n",
      "tensor(2.0004)\n",
      "tensor(5.0060)\n",
      "tensor(2.0004)\n",
      "tensor(5.0060)\n",
      "tensor(2.0004)\n",
      "tensor(5.0060)\n",
      "tensor(2.0004)\n",
      "tensor(5.0060)\n",
      "tensor(2.0004)\n",
      "tensor(5.0060)\n",
      "tensor(2.0004)\n",
      "tensor(5.0060)\n",
      "tensor(2.0004)\n",
      "tensor(5.0060)\n",
      "tensor(2.0004)\n",
      "tensor(5.0060)\n",
      "tensor(2.0004)\n",
      "tensor(5.0060)\n",
      "tensor(2.0004)\n",
      "tensor(5.0060)\n",
      "tensor(2.0004)\n",
      "tensor(5.0060)\n",
      "tensor(2.0004)\n",
      "tensor(5.0060)\n",
      "tensor(2.0004)\n",
      "tensor(5.0060)\n",
      "tensor(2.0004)\n",
      "tensor(5.0060)\n",
      "tensor(2.0004)\n",
      "tensor(5.0060)\n",
      "tensor(2.0004)\n",
      "tensor(5.0060)\n",
      "tensor(2.0004)\n",
      "tensor(5.0060)\n",
      "tensor(2.0004)\n",
      "tensor(5.0060)\n",
      "tensor(2.0004)\n",
      "tensor(5.0060)\n",
      "tensor(2.0004)\n",
      "tensor(5.0060)\n",
      "tensor(2.0004)\n",
      "tensor(5.0060)\n",
      "tensor(2.0004)\n",
      "tensor(5.0060)\n",
      "tensor(2.0004)\n",
      "tensor(5.0060)\n",
      "tensor(2.0004)\n",
      "tensor(5.0060)\n",
      "tensor(2.0004)\n",
      "tensor(5.0060)\n",
      "tensor(2.0004)\n",
      "tensor(5.0060)\n",
      "tensor(2.0004)\n",
      "tensor(5.0060)\n",
      "tensor(2.0004)\n",
      "tensor(5.0060)\n",
      "tensor(2.0004)\n",
      "tensor(5.0060)\n",
      "tensor(2.0004)\n",
      "tensor(5.0060)\n",
      "tensor(2.0004)\n",
      "tensor(5.0060)\n",
      "tensor(2.0004)\n",
      "tensor(5.0060)\n",
      "tensor(2.0004)\n",
      "tensor(5.0060)\n",
      "tensor(2.0004)\n",
      "tensor(5.0060)\n",
      "tensor(2.0004)\n",
      "tensor(5.0060)\n",
      "tensor(2.0004)\n",
      "tensor(5.0060)\n",
      "tensor(2.0004)\n",
      "tensor(5.0060)\n",
      "tensor(2.0004)\n",
      "tensor(5.0060)\n",
      "tensor(2.0004)\n",
      "tensor(5.0060)\n",
      "tensor(2.0004)\n",
      "tensor(5.0060)\n",
      "tensor(2.0004)\n",
      "tensor(5.0060)\n",
      "tensor(2.0004)\n",
      "tensor(5.0060)\n",
      "tensor(2.0004)\n",
      "tensor(5.0060)\n",
      "tensor(2.0004)\n",
      "tensor(5.0060)\n",
      "tensor(2.0004)\n",
      "tensor(5.0060)\n",
      "tensor(2.0004)\n",
      "tensor(5.0060)\n",
      "tensor(2.0004)\n",
      "tensor(5.0060)\n",
      "tensor(2.0004)\n",
      "tensor(5.0060)\n",
      "tensor(2.0004)\n",
      "tensor(5.0060)\n",
      "tensor(2.0004)\n",
      "tensor(5.0060)\n",
      "tensor(2.0004)\n",
      "tensor(5.0060)\n",
      "tensor(2.0004)\n",
      "tensor(5.0060)\n",
      "tensor(2.0004)\n",
      "tensor(5.0060)\n",
      "tensor(2.0004)\n",
      "tensor(5.0060)\n",
      "tensor(2.0004)\n",
      "tensor(5.0060)\n",
      "tensor(2.0004)\n",
      "tensor(5.0060)\n",
      "tensor(2.0004)\n",
      "tensor(5.0060)\n",
      "tensor(2.0004)\n",
      "tensor(5.0060)\n",
      "tensor(2.0004)\n",
      "tensor(5.0060)\n",
      "tensor(2.0004)\n",
      "tensor(5.0060)\n",
      "tensor(2.0004)\n",
      "tensor(5.0060)\n",
      "tensor(2.0004)\n",
      "tensor(5.0060)\n",
      "tensor(2.0004)\n",
      "tensor(5.0060)\n",
      "tensor(2.0004)\n",
      "tensor(5.0060)\n",
      "tensor(2.0004)\n",
      "tensor(5.0060)\n",
      "tensor(2.0004)\n",
      "tensor(5.0060)\n",
      "tensor(2.0004)\n",
      "tensor(5.0060)\n",
      "tensor(2.0004)\n",
      "tensor(5.0060)\n",
      "tensor(2.0004)\n",
      "tensor(5.0060)\n",
      "tensor(2.0004)\n",
      "tensor(5.0060)\n",
      "tensor(2.0004)\n",
      "tensor(5.0060)\n",
      "tensor(2.0004)\n",
      "tensor(5.0060)\n",
      "tensor(2.0004)\n",
      "tensor(5.0060)\n",
      "tensor(2.0004)\n",
      "tensor(5.0060)\n",
      "tensor(2.0004)\n",
      "tensor(5.0060)\n",
      "tensor(2.0004)\n",
      "tensor(5.0060)\n",
      "tensor(2.0004)\n",
      "tensor(5.0060)\n",
      "tensor(2.0004)\n",
      "tensor(5.0060)\n",
      "tensor(2.0004)\n",
      "tensor(5.0060)\n",
      "tensor(2.0004)\n",
      "tensor(5.0060)\n",
      "tensor(2.0004)\n",
      "tensor(5.0060)\n",
      "tensor(2.0004)\n",
      "tensor(5.0060)\n",
      "tensor(2.0004)\n",
      "tensor(5.0060)\n",
      "tensor(2.0004)\n",
      "tensor(5.0060)\n",
      "tensor(2.0004)\n",
      "tensor(5.0060)\n",
      "tensor(2.0004)\n",
      "tensor(5.0060)\n",
      "tensor(2.0004)\n",
      "tensor(5.0060)\n",
      "tensor(2.0004)\n",
      "tensor(5.0060)\n",
      "tensor(2.0004)\n",
      "tensor(5.0060)\n",
      "tensor(2.0004)\n",
      "tensor(5.0060)\n",
      "tensor(2.0004)\n",
      "tensor(5.0060)\n",
      "tensor(2.0004)\n",
      "tensor(5.0060)\n",
      "tensor(2.0004)\n",
      "tensor(5.0060)\n",
      "tensor(2.0004)\n",
      "tensor(5.0060)\n",
      "tensor(2.0004)\n",
      "tensor(5.0060)\n",
      "tensor(2.0004)\n",
      "tensor(5.0060)\n",
      "tensor(2.0004)\n",
      "tensor(5.0060)\n",
      "tensor(2.0004)\n",
      "tensor(5.0060)\n",
      "tensor(2.0004)\n",
      "tensor(5.0060)\n",
      "tensor(2.0004)\n",
      "tensor(5.0060)\n",
      "tensor(2.0004)\n",
      "tensor(5.0060)\n",
      "tensor(2.0004)\n",
      "tensor(5.0060)\n",
      "tensor(2.0004)\n",
      "tensor(5.0060)\n",
      "tensor(2.0004)\n",
      "tensor(5.0060)\n",
      "tensor(2.0004)\n",
      "tensor(5.0060)\n",
      "tensor(2.0004)\n",
      "tensor(5.0060)\n",
      "tensor(2.0004)\n",
      "tensor(5.0060)\n",
      "tensor(2.0004)\n",
      "tensor(5.0060)\n",
      "tensor(2.0004)\n",
      "tensor(5.0060)\n",
      "tensor(2.0004)\n",
      "tensor(5.0060)\n",
      "tensor(2.0004)\n",
      "tensor(5.0060)\n",
      "tensor(2.0004)\n",
      "tensor(5.0060)\n",
      "tensor(2.0004)\n",
      "tensor(5.0060)\n",
      "tensor(2.0004)\n",
      "tensor(5.0060)\n",
      "tensor(2.0004)\n",
      "tensor(5.0060)\n",
      "tensor(2.0004)\n",
      "tensor(5.0060)\n",
      "tensor(2.0004)\n",
      "tensor(5.0060)\n",
      "tensor(2.0004)\n",
      "tensor(5.0060)\n",
      "tensor(2.0004)\n",
      "tensor(5.0060)\n",
      "tensor(2.0004)\n",
      "tensor(5.0060)\n",
      "tensor(2.0004)\n",
      "tensor(5.0060)\n",
      "tensor(2.0004)\n",
      "tensor(5.0060)\n",
      "tensor(2.0004)\n",
      "tensor(5.0060)\n",
      "tensor(2.0004)\n",
      "tensor(5.0060)\n",
      "tensor(2.0004)\n",
      "tensor(5.0060)\n",
      "tensor(2.0004)\n",
      "tensor(5.0060)\n",
      "tensor(2.0004)\n",
      "tensor(5.0060)\n",
      "tensor(2.0004)\n",
      "tensor(5.0060)\n",
      "tensor(2.0004)\n",
      "tensor(5.0060)\n",
      "tensor(2.0004)\n",
      "tensor(5.0060)\n",
      "tensor(2.0004)\n",
      "tensor(5.0060)\n",
      "tensor(2.0004)\n",
      "tensor(5.0060)\n",
      "tensor(2.0004)\n",
      "tensor(5.0060)\n",
      "tensor(2.0004)\n",
      "tensor(5.0060)\n",
      "tensor(2.0004)\n",
      "tensor(5.0060)\n",
      "tensor(2.0004)\n",
      "tensor(5.0060)\n",
      "tensor(2.0004)\n",
      "tensor(5.0060)\n",
      "tensor(2.0004)\n",
      "tensor(5.0060)\n",
      "tensor(2.0004)\n",
      "tensor(5.0060)\n",
      "tensor(2.0004)\n",
      "tensor(5.0060)\n",
      "tensor(2.0004)\n",
      "tensor(5.0060)\n",
      "tensor(2.0004)\n",
      "tensor(5.0060)\n",
      "tensor(2.0004)\n",
      "tensor(5.0060)\n",
      "tensor(2.0004)\n",
      "tensor(5.0060)\n",
      "tensor(2.0004)\n",
      "tensor(5.0060)\n",
      "tensor(2.0004)\n",
      "tensor(5.0060)\n",
      "tensor(2.0004)\n",
      "tensor(5.0060)\n",
      "tensor(2.0004)\n",
      "tensor(5.0060)\n",
      "tensor(2.0004)\n",
      "tensor(5.0060)\n",
      "tensor(2.0004)\n",
      "tensor(5.0060)\n",
      "tensor(2.0004)\n",
      "tensor(5.0060)\n",
      "tensor(2.0004)\n",
      "tensor(5.0060)\n",
      "tensor(2.0004)\n",
      "tensor(5.0060)\n",
      "tensor(2.0004)\n",
      "tensor(5.0060)\n",
      "tensor(2.0004)\n",
      "tensor(5.0060)\n",
      "tensor(2.0004)\n",
      "tensor(5.0060)\n",
      "tensor(2.0004)\n",
      "tensor(5.0060)\n",
      "tensor(2.0004)\n",
      "tensor(5.0060)\n",
      "tensor(2.0004)\n",
      "tensor(5.0060)\n",
      "tensor(2.0004)\n",
      "tensor(5.0060)\n",
      "tensor(2.0004)\n",
      "tensor(5.0060)\n",
      "tensor(2.0004)\n",
      "tensor(5.0060)\n",
      "tensor(2.0004)\n",
      "tensor(5.0060)\n",
      "tensor(2.0004)\n",
      "tensor(5.0060)\n",
      "tensor(2.0004)\n",
      "tensor(5.0060)\n",
      "tensor(2.0004)\n",
      "tensor(5.0060)\n",
      "tensor(2.0004)\n",
      "tensor(5.0060)\n",
      "tensor(2.0004)\n",
      "tensor(5.0060)\n",
      "tensor(2.0004)\n",
      "tensor(5.0060)\n",
      "tensor(2.0004)\n",
      "tensor(5.0060)\n",
      "tensor(2.0004)\n",
      "tensor(5.0060)\n",
      "tensor(2.0004)\n",
      "tensor(5.0060)\n",
      "tensor(2.0004)\n",
      "tensor(5.0060)\n",
      "tensor(2.0004)\n",
      "tensor(5.0060)\n",
      "tensor(2.0004)\n",
      "tensor(5.0060)\n",
      "tensor(2.0004)\n",
      "tensor(5.0060)\n",
      "tensor(2.0004)\n",
      "tensor(5.0060)\n",
      "tensor(2.0004)\n",
      "tensor(5.0060)\n",
      "tensor(2.0004)\n",
      "tensor(5.0060)\n",
      "tensor(2.0004)\n",
      "tensor(5.0060)\n",
      "tensor(2.0004)\n",
      "tensor(5.0060)\n",
      "tensor(2.0004)\n",
      "tensor(5.0060)\n",
      "tensor(2.0004)\n",
      "tensor(5.0060)\n",
      "tensor(2.0004)\n",
      "tensor(5.0060)\n",
      "tensor(2.0004)\n",
      "tensor(5.0060)\n",
      "tensor(2.0004)\n",
      "tensor(5.0060)\n",
      "tensor(2.0004)\n",
      "tensor(5.0060)\n",
      "tensor(2.0004)\n",
      "tensor(5.0060)\n",
      "tensor(2.0004)\n",
      "tensor(5.0060)\n",
      "tensor(2.0004)\n",
      "tensor(5.0060)\n",
      "tensor(2.0004)\n",
      "tensor(5.0060)\n",
      "tensor(2.0004)\n",
      "tensor(5.0060)\n",
      "tensor(2.0004)\n",
      "tensor(5.0060)\n",
      "tensor(2.0004)\n",
      "tensor(5.0060)\n",
      "tensor(2.0004)\n",
      "tensor(5.0060)\n",
      "tensor(2.0004)\n",
      "tensor(5.0060)\n",
      "tensor(2.0004)\n",
      "tensor(5.0060)\n",
      "tensor(2.0004)\n",
      "tensor(5.0060)\n",
      "tensor(2.0004)\n",
      "tensor(5.0060)\n",
      "tensor(2.0004)\n",
      "tensor(5.0060)\n",
      "tensor(2.0004)\n",
      "tensor(5.0060)\n",
      "tensor(2.0004)\n",
      "tensor(5.0060)\n",
      "tensor(2.0004)\n",
      "tensor(5.0060)\n",
      "tensor(2.0004)\n",
      "tensor(5.0060)\n",
      "tensor(2.0004)\n",
      "tensor(5.0060)\n",
      "tensor(2.0004)\n",
      "tensor(5.0060)\n",
      "tensor(2.0004)\n",
      "tensor(5.0060)\n",
      "tensor(2.0004)\n",
      "tensor(5.0060)\n",
      "tensor(2.0004)\n",
      "tensor(5.0060)\n",
      "tensor(2.0004)\n",
      "tensor(5.0060)\n",
      "tensor(2.0004)\n",
      "tensor(5.0060)\n",
      "tensor(2.0004)\n",
      "tensor(5.0060)\n",
      "tensor(2.0004)\n",
      "tensor(5.0060)\n",
      "tensor(2.0004)\n",
      "tensor(5.0060)\n",
      "tensor(2.0004)\n",
      "tensor(5.0060)\n",
      "tensor(2.0004)\n",
      "tensor(5.0060)\n",
      "tensor(2.0004)\n",
      "tensor(5.0060)\n",
      "tensor(2.0004)\n",
      "tensor(5.0060)\n",
      "tensor(2.0004)\n",
      "tensor(5.0060)\n",
      "tensor(2.0004)\n",
      "tensor(5.0060)\n",
      "tensor(2.0004)\n",
      "tensor(5.0060)\n",
      "tensor(2.0004)\n",
      "tensor(5.0060)\n",
      "tensor(2.0004)\n",
      "tensor(5.0060)\n",
      "tensor(2.0004)\n",
      "tensor(5.0060)\n",
      "tensor(2.0004)\n",
      "tensor(5.0060)\n",
      "tensor(2.0004)\n",
      "tensor(5.0060)\n",
      "tensor(2.0004)\n",
      "tensor(5.0060)\n",
      "tensor(2.0004)\n",
      "tensor(5.0060)\n",
      "tensor(2.0004)\n",
      "tensor(5.0060)\n",
      "tensor(2.0004)\n",
      "tensor(5.0060)\n",
      "tensor(2.0004)\n",
      "tensor(5.0060)\n",
      "tensor(2.0004)\n",
      "tensor(5.0060)\n",
      "tensor(2.0004)\n",
      "tensor(5.0060)\n",
      "tensor(2.0004)\n",
      "tensor(5.0060)\n",
      "tensor(2.0004)\n",
      "tensor(5.0060)\n",
      "tensor(2.0004)\n",
      "tensor(5.0060)\n",
      "tensor(2.0004)\n",
      "tensor(5.0060)\n",
      "tensor(2.0004)\n",
      "tensor(5.0060)\n",
      "tensor(2.0004)\n",
      "tensor(5.0060)\n",
      "tensor(2.0004)\n",
      "tensor(5.0060)\n",
      "tensor(2.0004)\n",
      "tensor(5.0060)\n",
      "tensor(2.0004)\n",
      "tensor(5.0060)\n",
      "tensor(2.0004)\n",
      "tensor(5.0060)\n",
      "tensor(2.0004)\n",
      "tensor(5.0060)\n",
      "tensor(2.0004)\n",
      "tensor(5.0060)\n",
      "tensor(2.0004)\n",
      "tensor(5.0060)\n",
      "tensor(2.0004)\n",
      "tensor(5.0060)\n",
      "tensor(2.0004)\n",
      "tensor(5.0060)\n",
      "tensor(2.0004)\n",
      "tensor(5.0060)\n",
      "tensor(2.0004)\n",
      "tensor(5.0060)\n",
      "tensor(2.0004)\n",
      "tensor(5.0060)\n",
      "tensor(2.0004)\n",
      "tensor(5.0060)\n",
      "tensor(2.0004)\n",
      "tensor(5.0060)\n",
      "tensor(2.0004)\n",
      "tensor(5.0060)\n",
      "tensor(2.0004)\n",
      "tensor(5.0060)\n",
      "tensor(2.0004)\n",
      "tensor(5.0060)\n",
      "tensor(2.0004)\n",
      "tensor(5.0060)\n",
      "tensor(2.0004)\n",
      "tensor(5.0060)\n",
      "tensor(2.0004)\n",
      "tensor(5.0060)\n",
      "tensor(2.0004)\n",
      "tensor(5.0060)\n",
      "tensor(2.0004)\n",
      "tensor(5.0060)\n",
      "tensor(2.0004)\n",
      "tensor(5.0060)\n",
      "tensor(2.0004)\n",
      "tensor(5.0060)\n",
      "tensor(2.0004)\n",
      "tensor(5.0060)\n",
      "tensor(2.0004)\n",
      "tensor(5.0060)\n",
      "tensor(2.0004)\n",
      "tensor(5.0060)\n",
      "tensor(2.0004)\n",
      "tensor(5.0060)\n",
      "tensor(2.0004)\n",
      "tensor(5.0060)\n",
      "tensor(2.0004)\n",
      "tensor(5.0060)\n",
      "tensor(2.0004)\n",
      "tensor(5.0060)\n",
      "tensor(2.0004)\n",
      "tensor(5.0060)\n",
      "tensor(2.0004)\n",
      "tensor(5.0060)\n",
      "tensor(2.0004)\n",
      "tensor(5.0060)\n",
      "tensor(2.0004)\n",
      "tensor(5.0060)\n",
      "tensor(2.0004)\n",
      "tensor(5.0060)\n",
      "tensor(2.0004)\n",
      "tensor(5.0060)\n",
      "tensor(2.0004)\n",
      "tensor(5.0060)\n",
      "tensor(2.0004)\n",
      "tensor(5.0060)\n",
      "tensor(2.0004)\n",
      "tensor(5.0060)\n",
      "tensor(2.0004)\n",
      "tensor(5.0060)\n",
      "tensor(2.0004)\n",
      "tensor(5.0060)\n",
      "tensor(2.0004)\n",
      "tensor(5.0060)\n",
      "tensor(2.0004)\n",
      "tensor(5.0060)\n",
      "tensor(2.0004)\n",
      "tensor(5.0060)\n",
      "tensor(2.0004)\n",
      "tensor(5.0060)\n",
      "tensor(2.0004)\n",
      "tensor(5.0060)\n",
      "tensor(2.0004)\n",
      "tensor(5.0060)\n",
      "tensor(2.0004)\n",
      "tensor(5.0060)\n",
      "tensor(2.0004)\n",
      "tensor(5.0060)\n",
      "tensor(2.0004)\n",
      "tensor(5.0060)\n",
      "tensor(2.0004)\n",
      "tensor(5.0060)\n",
      "tensor(2.0004)\n",
      "tensor(5.0060)\n",
      "tensor(2.0004)\n",
      "tensor(5.0060)\n",
      "tensor(2.0004)\n",
      "tensor(5.0060)\n",
      "tensor(2.0004)\n",
      "tensor(5.0060)\n",
      "tensor(2.0004)\n",
      "tensor(5.0060)\n",
      "tensor(2.0004)\n",
      "tensor(5.0060)\n",
      "tensor(2.0004)\n",
      "tensor(5.0060)\n",
      "tensor(2.0004)\n",
      "tensor(5.0060)\n",
      "tensor(2.0004)\n",
      "tensor(5.0060)\n",
      "tensor(2.0004)\n",
      "tensor(5.0060)\n",
      "tensor(2.0004)\n",
      "tensor(5.0060)\n",
      "tensor(2.0004)\n",
      "tensor(5.0060)\n",
      "tensor(2.0004)\n",
      "tensor(5.0060)\n",
      "tensor(2.0004)\n",
      "tensor(5.0060)\n",
      "tensor(2.0004)\n",
      "tensor(5.0060)\n",
      "tensor(2.0004)\n",
      "tensor(5.0060)\n",
      "tensor(2.0004)\n",
      "tensor(5.0060)\n",
      "tensor(2.0004)\n",
      "tensor(5.0060)\n",
      "tensor(2.0004)\n",
      "tensor(5.0060)\n",
      "tensor(2.0004)\n",
      "tensor(5.0060)\n",
      "tensor(2.0004)\n",
      "tensor(5.0060)\n",
      "tensor(2.0004)\n",
      "tensor(5.0060)\n",
      "tensor(2.0004)\n",
      "tensor(5.0060)\n",
      "tensor(2.0004)\n",
      "tensor(5.0060)\n",
      "tensor(2.0004)\n",
      "tensor(5.0060)\n",
      "tensor(2.0004)\n",
      "tensor(5.0060)\n",
      "tensor(2.0004)\n",
      "tensor(5.0060)\n",
      "tensor(2.0004)\n",
      "tensor(5.0060)\n",
      "tensor(2.0004)\n",
      "tensor(5.0060)\n",
      "tensor(2.0004)\n",
      "tensor(5.0060)\n",
      "tensor(2.0004)\n",
      "tensor(5.0060)\n",
      "tensor(2.0004)\n",
      "tensor(5.0060)\n",
      "tensor(2.0004)\n",
      "tensor(5.0060)\n",
      "tensor(2.0004)\n",
      "tensor(5.0060)\n",
      "tensor(2.0004)\n",
      "tensor(5.0060)\n",
      "tensor(2.0004)\n",
      "tensor(5.0060)\n",
      "tensor(2.0004)\n",
      "tensor(5.0060)\n",
      "tensor(2.0004)\n",
      "tensor(5.0060)\n",
      "tensor(2.0004)\n",
      "tensor(5.0060)\n",
      "tensor(2.0004)\n",
      "tensor(5.0060)\n",
      "tensor(2.0004)\n",
      "tensor(5.0060)\n",
      "tensor(2.0004)\n",
      "tensor(5.0060)\n",
      "tensor(2.0004)\n",
      "tensor(5.0060)\n",
      "tensor(2.0004)\n",
      "tensor(5.0060)\n",
      "tensor(2.0004)\n",
      "tensor(5.0060)\n",
      "tensor(2.0004)\n",
      "tensor(5.0060)\n",
      "tensor(2.0004)\n",
      "tensor(5.0060)\n",
      "tensor(2.0004)\n",
      "tensor(5.0060)\n",
      "tensor(2.0004)\n",
      "tensor(5.0060)\n",
      "tensor(2.0004)\n",
      "tensor(5.0060)\n",
      "tensor(2.0004)\n",
      "tensor(5.0060)\n",
      "tensor(2.0004)\n",
      "tensor(5.0060)\n",
      "tensor(2.0004)\n",
      "tensor(5.0060)\n",
      "tensor(2.0004)\n",
      "tensor(5.0060)\n",
      "tensor(2.0004)\n",
      "tensor(5.0060)\n",
      "tensor(2.0004)\n",
      "tensor(5.0060)\n",
      "tensor(2.0004)\n",
      "tensor(5.0060)\n",
      "tensor(2.0004)\n",
      "tensor(5.0060)\n",
      "tensor(2.0004)\n",
      "tensor(5.0060)\n",
      "tensor(2.0004)\n",
      "tensor(5.0060)\n",
      "tensor(2.0004)\n",
      "tensor(5.0060)\n",
      "tensor(2.0004)\n",
      "tensor(5.0060)\n",
      "tensor(2.0004)\n",
      "tensor(5.0060)\n",
      "tensor(2.0004)\n",
      "tensor(5.0060)\n",
      "tensor(2.0004)\n",
      "tensor(5.0060)\n",
      "tensor(2.0004)\n",
      "tensor(5.0060)\n",
      "tensor(2.0004)\n",
      "tensor(5.0060)\n",
      "tensor(2.0004)\n",
      "tensor(5.0060)\n",
      "tensor(2.0004)\n",
      "tensor(5.0060)\n",
      "tensor(2.0004)\n",
      "tensor(5.0060)\n",
      "tensor(2.0004)\n",
      "tensor(5.0060)\n",
      "tensor(2.0004)\n",
      "tensor(5.0060)\n",
      "tensor(2.0004)\n",
      "tensor(5.0060)\n",
      "tensor(2.0004)\n",
      "tensor(5.0060)\n",
      "tensor(2.0004)\n",
      "tensor(5.0060)\n",
      "tensor(2.0004)\n",
      "tensor(5.0060)\n",
      "tensor(2.0004)\n",
      "tensor(5.0060)\n",
      "tensor(2.0004)\n",
      "tensor(5.0060)\n",
      "tensor(2.0004)\n",
      "tensor(5.0060)\n",
      "tensor(2.0004)\n",
      "tensor(5.0060)\n",
      "tensor(2.0004)\n",
      "tensor(5.0060)\n",
      "tensor(2.0004)\n",
      "tensor(5.0060)\n",
      "tensor(2.0004)\n",
      "tensor(5.0060)\n",
      "tensor(2.0004)\n",
      "tensor(5.0060)\n",
      "tensor(2.0004)\n",
      "tensor(5.0060)\n",
      "tensor(2.0004)\n",
      "tensor(5.0060)\n",
      "tensor(2.0004)\n",
      "tensor(5.0060)\n",
      "tensor(2.0004)\n",
      "tensor(5.0060)\n",
      "tensor(2.0004)\n",
      "tensor(5.0060)\n",
      "tensor(2.0004)\n",
      "tensor(5.0060)\n",
      "tensor(2.0004)\n",
      "tensor(5.0060)\n",
      "tensor(2.0004)\n",
      "tensor(5.0060)\n",
      "tensor(2.0004)\n",
      "tensor(5.0060)\n",
      "tensor(2.0004)\n",
      "tensor(5.0060)\n",
      "tensor(2.0004)\n",
      "tensor(5.0060)\n",
      "tensor(2.0004)\n",
      "tensor(5.0060)\n",
      "tensor(2.0004)\n",
      "tensor(5.0060)\n",
      "tensor(2.0004)\n",
      "tensor(5.0060)\n",
      "tensor(2.0004)\n",
      "tensor(5.0060)\n",
      "tensor(2.0004)\n",
      "tensor(5.0060)\n",
      "tensor(2.0004)\n",
      "tensor(5.0060)\n",
      "tensor(2.0004)\n",
      "tensor(5.0060)\n",
      "tensor(2.0004)\n",
      "tensor(5.0060)\n",
      "tensor(2.0004)\n",
      "tensor(5.0060)\n",
      "tensor(2.0004)\n",
      "tensor(5.0060)\n",
      "tensor(2.0004)\n",
      "tensor(5.0060)\n",
      "tensor(2.0004)\n",
      "tensor(5.0060)\n",
      "tensor(2.0004)\n",
      "tensor(5.0060)\n",
      "tensor(2.0004)\n",
      "tensor(5.0060)\n",
      "tensor(2.0004)\n",
      "tensor(5.0060)\n",
      "tensor(2.0004)\n",
      "tensor(5.0060)\n",
      "tensor(2.0004)\n",
      "tensor(5.0060)\n",
      "tensor(2.0004)\n",
      "tensor(5.0060)\n",
      "tensor(2.0004)\n",
      "tensor(5.0060)\n",
      "tensor(2.0004)\n",
      "tensor(5.0060)\n",
      "tensor(2.0004)\n",
      "tensor(5.0060)\n",
      "tensor(2.0004)\n",
      "tensor(5.0060)\n",
      "tensor(2.0004)\n",
      "tensor(5.0060)\n",
      "tensor(2.0004)\n",
      "tensor(5.0060)\n",
      "tensor(2.0004)\n",
      "tensor(5.0060)\n",
      "tensor(2.0004)\n",
      "tensor(5.0060)\n",
      "tensor(2.0004)\n",
      "tensor(5.0060)\n",
      "tensor(2.0004)\n",
      "tensor(5.0060)\n",
      "tensor(2.0004)\n",
      "tensor(5.0060)\n",
      "tensor(2.0004)\n",
      "tensor(5.0060)\n",
      "tensor(2.0004)\n",
      "tensor(5.0060)\n",
      "tensor(2.0004)\n",
      "tensor(5.0060)\n",
      "tensor(2.0004)\n",
      "tensor(5.0060)\n",
      "tensor(2.0004)\n",
      "tensor(5.0060)\n",
      "tensor(2.0004)\n",
      "tensor(5.0060)\n",
      "tensor(2.0004)\n",
      "tensor(5.0060)\n",
      "tensor(2.0004)\n",
      "tensor(5.0060)\n",
      "tensor(2.0004)\n",
      "tensor(5.0060)\n",
      "tensor(2.0004)\n",
      "tensor(5.0060)\n",
      "tensor(2.0004)\n",
      "tensor(5.0060)\n",
      "tensor(2.0004)\n",
      "tensor(5.0060)\n",
      "tensor(2.0004)\n",
      "tensor(5.0060)\n",
      "tensor(2.0004)\n",
      "tensor(5.0060)\n",
      "tensor(2.0004)\n",
      "tensor(5.0060)\n",
      "tensor(2.0004)\n",
      "tensor(5.0060)\n",
      "tensor(2.0004)\n",
      "tensor(5.0060)\n",
      "tensor(2.0004)\n",
      "tensor(5.0060)\n",
      "tensor(2.0004)\n",
      "tensor(5.0060)\n",
      "tensor(2.0004)\n",
      "tensor(5.0060)\n",
      "tensor(2.0004)\n",
      "tensor(5.0060)\n",
      "tensor(2.0004)\n",
      "tensor(5.0060)\n",
      "tensor(2.0004)\n",
      "tensor(5.0060)\n",
      "tensor(2.0004)\n",
      "tensor(5.0060)\n",
      "tensor(2.0004)\n",
      "tensor(5.0060)\n",
      "tensor(2.0004)\n",
      "tensor(5.0060)\n",
      "tensor(2.0004)\n",
      "tensor(5.0060)\n",
      "tensor(2.0004)\n",
      "tensor(5.0060)\n",
      "tensor(2.0004)\n",
      "tensor(5.0060)\n",
      "tensor(2.0004)\n",
      "tensor(5.0060)\n",
      "tensor(2.0004)\n",
      "tensor(5.0060)\n",
      "tensor(2.0004)\n",
      "tensor(5.0060)\n",
      "tensor(2.0004)\n",
      "tensor(5.0060)\n",
      "tensor(2.0004)\n",
      "tensor(5.0060)\n",
      "tensor(2.0004)\n",
      "tensor(5.0060)\n",
      "tensor(2.0004)\n",
      "tensor(5.0060)\n",
      "tensor(2.0004)\n",
      "tensor(5.0060)\n",
      "tensor(2.0004)\n",
      "tensor(5.0060)\n",
      "tensor(2.0004)\n",
      "tensor(5.0060)\n",
      "tensor(2.0004)\n",
      "tensor(5.0060)\n",
      "tensor(2.0004)\n",
      "tensor(5.0060)\n",
      "tensor(2.0004)\n",
      "tensor(5.0060)\n",
      "tensor(2.0004)\n",
      "tensor(5.0060)\n",
      "tensor(2.0004)\n",
      "tensor(5.0060)\n",
      "tensor(2.0004)\n",
      "tensor(5.0060)\n",
      "tensor(2.0004)\n",
      "tensor(5.0060)\n",
      "tensor(2.0004)\n",
      "tensor(5.0060)\n",
      "tensor(2.0004)\n",
      "tensor(5.0060)\n",
      "tensor(2.0004)\n",
      "tensor(5.0060)\n",
      "tensor(2.0004)\n",
      "tensor(5.0060)\n",
      "tensor(2.0004)\n",
      "tensor(5.0060)\n",
      "tensor(2.0004)\n",
      "tensor(5.0060)\n",
      "tensor(2.0004)\n",
      "tensor(5.0060)\n",
      "tensor(2.0004)\n",
      "tensor(5.0060)\n",
      "tensor(2.0004)\n",
      "tensor(5.0060)\n",
      "tensor(2.0004)\n",
      "tensor(5.0060)\n",
      "tensor(2.0004)\n",
      "tensor(5.0060)\n",
      "tensor(2.0004)\n",
      "tensor(5.0060)\n",
      "tensor(2.0004)\n",
      "tensor(5.0060)\n",
      "tensor(2.0004)\n",
      "tensor(5.0060)\n",
      "tensor(2.0004)\n",
      "tensor(5.0060)\n",
      "tensor(2.0004)\n",
      "tensor(5.0060)\n",
      "tensor(2.0004)\n",
      "tensor(5.0060)\n",
      "tensor(2.0004)\n",
      "tensor(5.0060)\n",
      "tensor(2.0004)\n",
      "tensor(5.0060)\n",
      "tensor(2.0004)\n",
      "tensor(5.0060)\n",
      "tensor(2.0004)\n",
      "tensor(5.0060)\n",
      "tensor(2.0004)\n",
      "tensor(5.0060)\n",
      "tensor(2.0004)\n",
      "tensor(5.0060)\n",
      "tensor(2.0004)\n",
      "tensor(5.0060)\n",
      "tensor(2.0004)\n",
      "tensor(5.0060)\n",
      "tensor(2.0004)\n",
      "tensor(5.0060)\n",
      "tensor(2.0004)\n",
      "tensor(5.0060)\n",
      "tensor(2.0004)\n",
      "tensor(5.0060)\n",
      "tensor(2.0004)\n",
      "tensor(5.0060)\n",
      "tensor(2.0004)\n",
      "tensor(5.0060)\n",
      "tensor(2.0004)\n",
      "tensor(5.0060)\n",
      "tensor(2.0004)\n",
      "tensor(5.0060)\n",
      "tensor(2.0004)\n",
      "tensor(5.0060)\n",
      "tensor(2.0004)\n",
      "tensor(5.0060)\n",
      "tensor(2.0004)\n",
      "tensor(5.0060)\n",
      "tensor(2.0004)\n",
      "tensor(5.0060)\n",
      "tensor(2.0004)\n",
      "tensor(5.0060)\n",
      "tensor(2.0004)\n",
      "tensor(5.0060)\n",
      "tensor(2.0004)\n",
      "tensor(5.0060)\n",
      "tensor(2.0004)\n",
      "tensor(5.0060)\n",
      "tensor(2.0004)\n",
      "tensor(5.0060)\n",
      "tensor(2.0004)\n",
      "tensor(5.0060)\n",
      "tensor(2.0004)\n",
      "tensor(5.0060)\n",
      "tensor(2.0004)\n",
      "tensor(5.0060)\n",
      "tensor(2.0004)\n",
      "tensor(5.0060)\n",
      "tensor(2.0004)\n",
      "tensor(5.0060)\n",
      "tensor(2.0004)\n",
      "tensor(5.0060)\n",
      "tensor(2.0004)\n",
      "tensor(5.0060)\n",
      "tensor(2.0004)\n",
      "tensor(5.0060)\n",
      "tensor(2.0004)\n",
      "tensor(5.0060)\n",
      "tensor(2.0004)\n",
      "tensor(5.0060)\n",
      "tensor(2.0004)\n",
      "tensor(5.0060)\n",
      "tensor(2.0004)\n",
      "tensor(5.0060)\n",
      "tensor(2.0004)\n",
      "tensor(5.0060)\n",
      "tensor(2.0004)\n",
      "tensor(5.0060)\n",
      "tensor(2.0004)\n",
      "tensor(5.0060)\n",
      "tensor(2.0004)\n",
      "tensor(5.0060)\n",
      "tensor(2.0004)\n",
      "tensor(5.0060)\n",
      "tensor(2.0004)\n",
      "tensor(5.0060)\n",
      "tensor(2.0004)\n",
      "tensor(5.0060)\n",
      "tensor(2.0004)\n",
      "tensor(5.0060)\n",
      "tensor(2.0004)\n",
      "tensor(5.0060)\n",
      "tensor(2.0004)\n",
      "tensor(5.0060)\n",
      "tensor(2.0004)\n",
      "tensor(5.0060)\n",
      "tensor(2.0004)\n",
      "tensor(5.0060)\n",
      "tensor(2.0004)\n",
      "tensor(5.0060)\n",
      "tensor(2.0004)\n",
      "tensor(5.0060)\n",
      "tensor(2.0004)\n",
      "tensor(5.0060)\n",
      "tensor(2.0004)\n",
      "tensor(5.0060)\n",
      "tensor(2.0004)\n",
      "tensor(5.0060)\n",
      "tensor(2.0004)\n",
      "tensor(5.0060)\n",
      "tensor(2.0004)\n",
      "tensor(5.0060)\n",
      "tensor(2.0004)\n",
      "tensor(5.0060)\n",
      "tensor(2.0004)\n",
      "tensor(5.0060)\n",
      "tensor(2.0004)\n",
      "tensor(5.0060)\n",
      "tensor(2.0004)\n",
      "tensor(5.0060)\n",
      "tensor(2.0004)\n",
      "tensor(5.0060)\n",
      "tensor(2.0004)\n",
      "tensor(5.0060)\n",
      "tensor(2.0004)\n",
      "tensor(5.0060)\n",
      "tensor(2.0004)\n",
      "tensor(5.0060)\n",
      "tensor(2.0004)\n",
      "tensor(5.0060)\n",
      "tensor(2.0004)\n",
      "tensor(5.0060)\n",
      "tensor(2.0004)\n",
      "tensor(5.0060)\n",
      "tensor(2.0004)\n",
      "tensor(5.0060)\n",
      "tensor(2.0004)\n",
      "tensor(5.0060)\n",
      "tensor(2.0004)\n",
      "tensor(5.0060)\n",
      "tensor(2.0004)\n",
      "tensor(5.0060)\n",
      "tensor(2.0004)\n",
      "tensor(5.0060)\n",
      "tensor(2.0004)\n",
      "tensor(5.0060)\n",
      "tensor(2.0004)\n",
      "tensor(5.0060)\n",
      "tensor(2.0004)\n",
      "tensor(5.0060)\n",
      "tensor(2.0004)\n",
      "tensor(5.0060)\n",
      "tensor(2.0004)\n",
      "tensor(5.0060)\n",
      "tensor(2.0004)\n",
      "tensor(5.0060)\n",
      "tensor(2.0004)\n",
      "tensor(5.0060)\n",
      "tensor(2.0004)\n",
      "tensor(5.0060)\n",
      "tensor(2.0004)\n",
      "tensor(5.0060)\n",
      "tensor(2.0004)\n",
      "tensor(5.0060)\n",
      "tensor(2.0004)\n",
      "tensor(5.0060)\n",
      "tensor(2.0004)\n",
      "tensor(5.0060)\n",
      "tensor(2.0004)\n",
      "tensor(5.0060)\n",
      "tensor(2.0004)\n",
      "tensor(5.0060)\n",
      "tensor(2.0004)\n",
      "tensor(5.0060)\n",
      "tensor(2.0004)\n",
      "tensor(5.0060)\n",
      "tensor(2.0004)\n",
      "tensor(5.0060)\n",
      "tensor(2.0004)\n",
      "tensor(5.0060)\n",
      "tensor(2.0004)\n",
      "tensor(5.0060)\n",
      "tensor(2.0004)\n",
      "tensor(5.0060)\n",
      "tensor(2.0004)\n",
      "tensor(5.0060)\n",
      "tensor(2.0004)\n",
      "tensor(5.0060)\n",
      "tensor(2.0004)\n",
      "tensor(5.0060)\n",
      "tensor(2.0004)\n",
      "tensor(5.0060)\n",
      "tensor(2.0004)\n",
      "tensor(5.0060)\n",
      "tensor(2.0004)\n",
      "tensor(5.0060)\n",
      "tensor(2.0004)\n",
      "2.62 ms ± 382 µs per loop (mean ± std. dev. of 7 runs, 100 loops each)\n"
     ]
    }
   ],
   "source": [
    "%%timeit\n",
    "\n",
    "mean = samples.mean()\n",
    "std = samples.std()\n",
    "\n",
    "print(mean)\n",
    "print(std)"
   ]
  },
  {
   "cell_type": "markdown",
   "metadata": {},
   "source": [
    "What do you observe when you compare the running time of the two code snippets?\n",
    "\n",
    "> your discussion"
   ]
  },
  {
   "cell_type": "markdown",
   "metadata": {},
   "source": [
    "Compute the absolute-value ($L_1$) and Euclidean ($L_2$) norms of `samples`, without loops."
   ]
  },
  {
   "cell_type": "code",
   "execution_count": 220,
   "metadata": {},
   "outputs": [
    {
     "name": "stdout",
     "output_type": "stream",
     "text": [
      "tensor(501361.5625) tensor(1704.7445)\n"
     ]
    }
   ],
   "source": [
    "l1_norm = torch.norm(samples, p=1)\n",
    "l2_norm = torch.norm(samples, p=2)\n",
    "\n",
    "print(l1_norm, l2_norm)"
   ]
  },
  {
   "cell_type": "markdown",
   "metadata": {},
   "source": [
    "Extract the first and last 13 elements of `samples` as two distinct vectors and compute their [outer product](https://en.wikipedia.org/wiki/Outer_product) matrix, without loops."
   ]
  },
  {
   "cell_type": "code",
   "execution_count": 221,
   "metadata": {},
   "outputs": [
    {
     "name": "stdout",
     "output_type": "stream",
     "text": [
      "tensor([[15.1441, 26.3695, 25.9601, 17.4500, 29.9380, 35.5418, 23.6504, 24.2941,\n",
      "         31.6304, 15.9990,  4.9016, 19.3998, 32.3828],\n",
      "        [15.6204, 27.1989, 26.7766, 17.9989, 30.8797, 36.6597, 24.3943, 25.0582,\n",
      "         32.6254, 16.5022,  5.0558, 20.0100, 33.4013],\n",
      "        [23.6707, 41.2164, 40.5764, 27.2749, 46.7941, 55.5530, 36.9663, 37.9725,\n",
      "         49.4394, 25.0069,  7.6614, 30.3226, 50.6153],\n",
      "        [16.5534, 28.8235, 28.3760, 19.0739, 32.7241, 38.8494, 25.8513, 26.5549,\n",
      "         34.5740, 17.4879,  5.3577, 21.2052, 35.3964],\n",
      "        [25.8563, 45.0222, 44.3231, 29.7934, 51.1149, 60.6826, 40.3796, 41.4787,\n",
      "         54.0045, 27.3160,  8.3688, 33.1224, 55.2890],\n",
      "        [21.1645, 36.8525, 36.2803, 24.3871, 41.8396, 49.6712, 33.0524, 33.9520,\n",
      "         44.2049, 22.3593,  6.8502, 27.1121, 45.2563],\n",
      "        [12.1545, 21.1640, 20.8354, 14.0053, 24.0281, 28.5257, 18.9817, 19.4983,\n",
      "         25.3864, 12.8407,  3.9340, 15.5702, 25.9902],\n",
      "        [11.8760, 20.6790, 20.3579, 13.6843, 23.4774, 27.8720, 18.5467, 19.0515,\n",
      "         24.8047, 12.5464,  3.8438, 15.2134, 25.3946],\n",
      "        [25.2789, 44.0168, 43.3334, 29.1281, 49.9734, 59.3275, 39.4779, 40.5525,\n",
      "         52.7985, 26.7060,  8.1819, 32.3828, 54.0543],\n",
      "        [24.1944, 42.1284, 41.4743, 27.8784, 47.8295, 56.7823, 37.7843, 38.8127,\n",
      "         50.5334, 25.5603,  7.8309, 30.9935, 51.7353],\n",
      "        [10.9613, 19.0862, 18.7899, 12.6303, 21.6691, 25.7251, 17.1181, 17.5840,\n",
      "         22.8941, 11.5800,  3.5478, 14.0416, 23.4386],\n",
      "        [29.6999, 51.7148, 50.9118, 34.2222, 58.7132, 69.7032, 46.3822, 47.6446,\n",
      "         62.0324, 31.3766,  9.6128, 38.0462, 63.5078],\n",
      "        [10.0123, 17.4338, 17.1631, 11.5368, 19.7931, 23.4980, 15.6361, 16.0617,\n",
      "         20.9120, 10.5775,  3.2406, 12.8259, 21.4094]])\n"
     ]
    }
   ],
   "source": [
    "first_13 = samples[:13]\n",
    "last_13 = samples[-13:]\n",
    "\n",
    "outer_product_matrix = torch.ger(first_13, last_13)\n",
    "print(outer_product_matrix)"
   ]
  },
  {
   "cell_type": "markdown",
   "metadata": {},
   "source": [
    "Extract the diagonal of this matrix."
   ]
  },
  {
   "cell_type": "code",
   "execution_count": 222,
   "metadata": {},
   "outputs": [
    {
     "name": "stdout",
     "output_type": "stream",
     "text": [
      "tensor([15.1441, 27.1989, 40.5764, 19.0739, 51.1149, 49.6712, 18.9817, 19.0515,\n",
      "        52.7985, 25.5603,  3.5478, 38.0462, 21.4094])\n"
     ]
    }
   ],
   "source": [
    "diagonal = torch.diag(outer_product_matrix)\n",
    "print(diagonal)"
   ]
  },
  {
   "cell_type": "markdown",
   "metadata": {},
   "source": [
    "Trace the curve defined by the coordinates\n",
    "\n",
    "$$x(t) = 16 \\sin(t)^3$$\n",
    "\n",
    "$$y(t) = 13 \\cos(t) - 5 \\cos(2t) - 2 \\cos(3t) - \\cos(4t)$$\n",
    "\n",
    "for $t \\in [0, 2\\pi[$.\n",
    "\n",
    "You can use `np.pi` for the value of $\\pi$ and the `matplotlib` package to plot the curve."
   ]
  },
  {
   "cell_type": "code",
   "execution_count": 223,
   "metadata": {},
   "outputs": [
    {
     "data": {
      "image/png": "[encoded data removed]",
      "text/plain": [
       "<Figure size 640x480 with 1 Axes>"
      ]
     },
     "metadata": {},
     "output_type": "display_data"
    }
   ],
   "source": [
    "t = np.linspace(0, 2*np.pi, 1000)\n",
    "\n",
    "x = 16*np.sin(t)**3\n",
    "y = 13*np.cos(t) - 5*np.cos(2*t) - 2*np.cos(3*t) - np.cos(4*t)\n",
    "\n",
    "plt.plot(x, y)\n",
    "plt.show()"
   ]
  },
  {
   "cell_type": "markdown",
   "metadata": {},
   "source": [
    "You can now send the result to your crush ;)"
   ]
  },
  {
   "cell_type": "markdown",
   "metadata": {},
   "source": [
    "## 2. The autograd package\n",
    "\n",
    "The autograd package is what really makes PyTorch different from other algebraic language/libraries such as MATLAB or NumPy. Whenever you make operations in PyTorch, it will create a computation graph that can later be used to compute derivatives of the output quantities with respect to the input or other intermediate computation steps. \n",
    "\n",
    "The official documentation says\n",
    "\n",
    "> `torch.autograd` provides classes and functions implementing automatic differentiation of arbitrary scalar valued functions. It requires minimal changes to the existing code - you only need to declare tensors for which gradients should be computed with the `requires_grad=True` keyword.\n",
    "\n",
    "For more information about autograd you can check this short [tutorial](https://pytorch.org/tutorials/beginner/blitz/autograd_tutorial.html) and the [documentation](https://pytorch.org/docs/stable/autograd.html)."
   ]
  },
  {
   "cell_type": "markdown",
   "metadata": {},
   "source": [
    "### 2.1 A guided tour\n",
    "\n",
    "Let's see how autograd may be used to compute the derivative(s) of the following function."
   ]
  },
  {
   "cell_type": "code",
   "execution_count": 224,
   "metadata": {},
   "outputs": [],
   "source": [
    "def f(x):\n",
    "    return x**2 + 2 * x - 0.5 * torch.sin(x * 3)\n",
    "\n",
    "def f_prime(x):  # f'\n",
    "    return 2 * x + 2 - 1.5 * torch.cos(x * 3)\n",
    "\n",
    "def f_pprime(x):  # f''\n",
    "    return 2 + 4.5 * torch.sin(x * 3)"
   ]
  },
  {
   "cell_type": "code",
   "execution_count": 225,
   "metadata": {},
   "outputs": [
    {
     "name": "stdout",
     "output_type": "stream",
     "text": [
      "tensor([-1.3067], requires_grad=True)\n",
      "tensor([-1.2571], grad_fn=<SubBackward0>)\n",
      "tensor([0.4543], grad_fn=<AddBackward0>) tensor([0.4543], grad_fn=<SubBackward0>)\n",
      "tensor([5.1604]) tensor([5.1604], grad_fn=<AddBackward0>)\n"
     ]
    }
   ],
   "source": [
    "x = torch.randn(1, requires_grad=True)  # without requires_grad, the computation graph is not created\n",
    "print(x)\n",
    "\n",
    "y = f(x)\n",
    "print(y)\n",
    "\n",
    "dy = torch.autograd.grad(y, x, create_graph=True)[0]  # create_graph is necessary for higher-order derivative\n",
    "print(dy, f_prime(x))\n",
    "\n",
    "ddy = torch.autograd.grad(dy, x)[0]\n",
    "print(ddy, f_pprime(x))"
   ]
  },
  {
   "cell_type": "markdown",
   "metadata": {},
   "source": [
    "As expected, autograd is able to compute gradients automatically. We can exploit this to perform **gradient descent** with parametric approximators. Let's approximate the function `f` using a polynomial."
   ]
  },
  {
   "cell_type": "code",
   "execution_count": 226,
   "metadata": {},
   "outputs": [],
   "source": [
    "# learning set\n",
    "x = torch.linspace(-3, 3, 1000)\n",
    "y = f(x)\n",
    "\n",
    "# parametric approximator (polynomial of degree 3)\n",
    "def approximator(w, x):\n",
    "    return torch.stack((torch.ones_like(x), x, x**2, x**3), dim=-1) @ w\n",
    "\n",
    "# initialize parameters at random\n",
    "w = torch.randn(4, requires_grad=True)"
   ]
  },
  {
   "cell_type": "markdown",
   "metadata": {},
   "source": [
    "Let's take a look at what happens before training"
   ]
  },
  {
   "cell_type": "code",
   "execution_count": 227,
   "metadata": {},
   "outputs": [
    {
     "data": {
      "image/png": "[encoded data removed]",
      "text/plain": [
       "<Figure size 640x480 with 1 Axes>"
      ]
     },
     "metadata": {},
     "output_type": "display_data"
    }
   ],
   "source": [
    "plt.title('Before training')\n",
    "plt.plot(x, y, label='Ground truth')\n",
    "plt.plot(x, approximator(w, x).detach(), label='Approximation')\n",
    "plt.legend()\n",
    "plt.show()"
   ]
  },
  {
   "cell_type": "markdown",
   "metadata": {},
   "source": [
    "We perform gradient descent on the mean squared error (MSE) loss function in order to fit the learning set."
   ]
  },
  {
   "cell_type": "code",
   "execution_count": 228,
   "metadata": {},
   "outputs": [
    {
     "data": {
      "image/png": "[encoded data removed]",
      "text/plain": [
       "<Figure size 640x480 with 1 Axes>"
      ]
     },
     "metadata": {},
     "output_type": "display_data"
    }
   ],
   "source": [
    "lr = .001  # learning rate\n",
    "\n",
    "for i in range(1000):\n",
    "    y_pred = approximator(w, x)\n",
    "    mse = torch.mean((y - y_pred)**2)  # mean squared error\n",
    "    grad = torch.autograd.grad(mse, w)[0]\n",
    "    \n",
    "    with torch.no_grad():\n",
    "        w -= lr * grad  # gradient descent update\n",
    "\n",
    "plt.title('After training')\n",
    "plt.plot(x, y, label='Ground truth')\n",
    "plt.plot(x, approximator(w, x).detach(), label='Approximation')\n",
    "plt.legend()\n",
    "plt.show()"
   ]
  },
  {
   "cell_type": "markdown",
   "metadata": {},
   "source": [
    "If the approximator became larger, calling the `torch.autograd.grad` method with all parameter tensors would become quite cumbersome. Fortunately, PyTorch provides the `.backward()` method to acumulate (in the `.grad` property) the gradient values in **all** tensors that are in the computation graph. Later on in this notebook we will see how this, together with `Optimizer` objects, makes gradient descent very simple."
   ]
  },
  {
   "cell_type": "code",
   "execution_count": 229,
   "metadata": {},
   "outputs": [
    {
     "name": "stdout",
     "output_type": "stream",
     "text": [
      "tensor([0.7713, 0.6054, 0.1657, 0.6233, 0.4690])\n",
      "tensor([0.7713, 0.6054, 0.1657, 0.6233, 0.4690])\n"
     ]
    }
   ],
   "source": [
    "x = torch.rand(5)\n",
    "w = torch.rand(5, requires_grad=True)\n",
    "y = w @ x\n",
    "y.backward()\n",
    "\n",
    "print(x, w.grad, sep='\\n')"
   ]
  },
  {
   "cell_type": "markdown",
   "metadata": {},
   "source": [
    "Importantly, the construction of the computation graphs is expensive and memory consuming. If some computations do not use the gradients, like evaluating an approximator or updating the parameters, one can disable the creation of the computation graph with the `torch.no_grad()` context."
   ]
  },
  {
   "cell_type": "code",
   "execution_count": 230,
   "metadata": {},
   "outputs": [
    {
     "name": "stdout",
     "output_type": "stream",
     "text": [
      "18.6 µs ± 2.11 µs per loop (mean ± std. dev. of 7 runs, 100,000 loops each)\n",
      "10 µs ± 930 ns per loop (mean ± std. dev. of 7 runs, 100,000 loops each)\n"
     ]
    }
   ],
   "source": [
    "w = torch.rand(100, 100, requires_grad=True)\n",
    "x = torch.rand(100)\n",
    "\n",
    "%timeit w @ x\n",
    "\n",
    "with torch.no_grad():\n",
    "    %timeit w @ x"
   ]
  },
  {
   "cell_type": "markdown",
   "metadata": {},
   "source": [
    "### 2.2 Try it yourself!\n",
    "\n",
    "We would like you to perform the same kind of curve fitting that we did a few cells above, but this time we want to use the `.backward()` method instead of `torch.autograd.grad`. Remember that PyTorch will keep **accumulating** the gradient values in the `.grad` property of each tensor, i.e. the values are not replaced but added together after each backward pass. Fortunately, you can reset the values of the gradient to 0 with the `.zero_()` in-place method (e.g. `w.grad.zero_()`). To make your life easier, you can start from the learning loop three cells above, but be careful to re-initialize the parameters at random before training and to not use the `torch.autograd.grad` function."
   ]
  },
  {
   "cell_type": "code",
   "execution_count": 231,
   "metadata": {},
   "outputs": [],
   "source": [
    "# your code"
   ]
  },
  {
   "cell_type": "markdown",
   "metadata": {},
   "source": [
    "## 3. The `torch.nn` and `torch.optim` modules\n",
    "\n",
    "You should now be able to define your own neural network and train it with tensorial operations and the autograd package. However this would require you to explicitely define every operation in the neural network and to keep track of all the parameters for performing gradient descent. Fortunately, PyTorch provides the `torch.nn` and `torch.optim` packages which implement everything you need to define and train a neural network efficiently."
   ]
  },
  {
   "cell_type": "code",
   "execution_count": 232,
   "metadata": {},
   "outputs": [],
   "source": [
    "import torch.nn as nn\n",
    "import torch.nn.functional as F\n",
    "import torch.optim as optim"
   ]
  },
  {
   "cell_type": "markdown",
   "metadata": {},
   "source": [
    "#### `nn.functional`\n",
    "\n",
    "The `torch.nn.functional` (imported as `F` in this notebook) module implements many predefined functions which should simplify your life for building your own neural networks. The complete list can be accessed [here](https://pytorch.org/docs/stable/nn.functional.html). Let's play with some activation functions."
   ]
  },
  {
   "cell_type": "code",
   "execution_count": 233,
   "metadata": {},
   "outputs": [
    {
     "data": {
      "image/png": "[encoded data removed]",
      "text/plain": [
       "<Figure size 640x480 with 1 Axes>"
      ]
     },
     "metadata": {},
     "output_type": "display_data"
    }
   ],
   "source": [
    "x = torch.linspace(-5, 5, 100)\n",
    "\n",
    "plt.plot(x, F.relu(x), label='ReLU')\n",
    "plt.plot(x, F.elu(x), label='ELU')\n",
    "plt.plot(x, F.silu(x), label='SiLU')\n",
    "plt.legend()\n",
    "plt.show()"
   ]
  },
  {
   "cell_type": "markdown",
   "metadata": {},
   "source": [
    "#### `nn.Module`\n",
    "\n",
    "PyTorch provides a very important base class named `nn.Module`. This class is used to build complex neural networks. In fact any class which inherits from it will automatically keep track of its parameters. To define your own `nn.Module` subclass you only need to implement the `__init__` constructor and the `forward` function. Let's see an example:"
   ]
  },
  {
   "cell_type": "code",
   "execution_count": 234,
   "metadata": {},
   "outputs": [],
   "source": [
    "# we create a class 'SimpleParametricModel' which inherits from nn.Module\n",
    "class SimpleParametricModel(nn.Module):\n",
    "    def __init__(self):\n",
    "        # nn.Module's constructor has to be called BEFORE adding any sub-modules\n",
    "        super().__init__()\n",
    "        \n",
    "        # we add a linear layer to our module, which is itself a module\n",
    "        self.linear = nn.Linear(in_features=3, out_features=1, bias=True)\n",
    "        \n",
    "        # we add an activation function to our module\n",
    "        self.activation = nn.ReLU()\n",
    "        \n",
    "    # we define the forward pass\n",
    "    def forward(self, x):\n",
    "        x = self.linear(x)\n",
    "        x = self.activation(x)\n",
    "        return x"
   ]
  },
  {
   "cell_type": "markdown",
   "metadata": {},
   "source": [
    "We can now create an instance of the `SimpleParametricModel` class and have a look at it."
   ]
  },
  {
   "cell_type": "code",
   "execution_count": 235,
   "metadata": {},
   "outputs": [
    {
     "name": "stdout",
     "output_type": "stream",
     "text": [
      "SimpleParametricModel(\n",
      "  (linear): Linear(in_features=3, out_features=1, bias=True)\n",
      "  (activation): ReLU()\n",
      ")\n"
     ]
    }
   ],
   "source": [
    "model = SimpleParametricModel()\n",
    "print(model)"
   ]
  },
  {
   "cell_type": "markdown",
   "metadata": {},
   "source": [
    "We observe that the two components are correctly registered. We can also inspect the parameters of our model with the `.parameters()` or `.state_dict()` methods."
   ]
  },
  {
   "cell_type": "code",
   "execution_count": 236,
   "metadata": {},
   "outputs": [
    {
     "name": "stdout",
     "output_type": "stream",
     "text": [
      "Parameter containing:\n",
      "tensor([[0.5595, 0.5442, 0.1323]], requires_grad=True)\n",
      "Parameter containing:\n",
      "tensor([-0.5013], requires_grad=True)\n"
     ]
    }
   ],
   "source": [
    "for p in model.parameters():\n",
    "    print(p)"
   ]
  },
  {
   "cell_type": "code",
   "execution_count": 237,
   "metadata": {},
   "outputs": [
    {
     "data": {
      "text/plain": [
       "OrderedDict([('linear.weight', tensor([[0.5595, 0.5442, 0.1323]])),\n",
       "             ('linear.bias', tensor([-0.5013]))])"
      ]
     },
     "execution_count": 237,
     "metadata": {},
     "output_type": "execute_result"
    }
   ],
   "source": [
    "model.state_dict()"
   ]
  },
  {
   "cell_type": "markdown",
   "metadata": {},
   "source": [
    "As expected, the parameters of the linear layer are considered as parameters of the model itself.\n",
    "\n",
    "PyTorch implements many components that are commonly used in neural networks such as convolutions, linear layers, normalizations and activations. Most of them are available as ready-to-use modules in `torch.nn` (imported as `nn` in this notebook).\n",
    "\n",
    "Let's build a simple multi-layer perceptron (MLP) with two hidden layers and a ReLU activation function."
   ]
  },
  {
   "cell_type": "code",
   "execution_count": 238,
   "metadata": {},
   "outputs": [
    {
     "name": "stdout",
     "output_type": "stream",
     "text": [
      "TwoLayerMLP(\n",
      "  (l1): Linear(in_features=3, out_features=16, bias=True)\n",
      "  (l2): Linear(in_features=16, out_features=16, bias=True)\n",
      "  (l3): Linear(in_features=16, out_features=1, bias=True)\n",
      "  (activation): ReLU()\n",
      ")\n"
     ]
    }
   ],
   "source": [
    "class TwoLayerMLP(nn.Module):\n",
    "    def __init__(self, input_features, output_features, hidden_features=16):\n",
    "        super().__init__()\n",
    "        \n",
    "        self.l1 = nn.Linear(input_features, hidden_features)\n",
    "        self.l2 = nn.Linear(hidden_features, hidden_features)\n",
    "        self.l3 = nn.Linear(hidden_features, output_features)\n",
    "        \n",
    "        self.activation = nn.ReLU()\n",
    "\n",
    "    def forward(self, x):\n",
    "        h1 = self.activation(self.l1(x))\n",
    "        h2 = self.activation(self.l2(h1))\n",
    "        y = self.l3(h2)\n",
    "        return y\n",
    "\n",
    "# instantiate the network to have 3 input features and 1 output feature (and 16 hidden features)\n",
    "network = TwoLayerMLP(3, 1)\n",
    "print(network)"
   ]
  },
  {
   "cell_type": "code",
   "execution_count": 239,
   "metadata": {},
   "outputs": [
    {
     "name": "stdout",
     "output_type": "stream",
     "text": [
      "tensor([[0.8813, 0.6223, 0.4748],\n",
      "        [0.3581, 0.9150, 0.0573],\n",
      "        [0.7337, 0.9313, 0.1964],\n",
      "        [0.6477, 0.3320, 0.0638],\n",
      "        [0.5343, 0.0121, 0.1975],\n",
      "        [0.8951, 0.7914, 0.7331],\n",
      "        [0.1371, 0.8713, 0.8311],\n",
      "        [0.4296, 0.2411, 0.4679]])\n",
      "tensor([[0.1026],\n",
      "        [0.0789],\n",
      "        [0.0884],\n",
      "        [0.0876],\n",
      "        [0.0869],\n",
      "        [0.1121],\n",
      "        [0.1083],\n",
      "        [0.1126]], grad_fn=<AddmmBackward0>)\n"
     ]
    }
   ],
   "source": [
    "# we usually give batches of values to networks to take advantage of parallelism\n",
    "# here the batch size is 32\n",
    "x = torch.rand(8, 3)\n",
    "\n",
    "# call network.forward under the hood\n",
    "y = network(x)\n",
    "\n",
    "print(x, y, sep='\\n')"
   ]
  },
  {
   "cell_type": "markdown",
   "metadata": {},
   "source": [
    "#### `nn.Sequential`\n",
    "\n",
    "Writing the forward pass can become cumbersome and dirty if you have a large number of sequential layers. For that kind of networks, you can use `nn.Sequential` as parent instead of `nn.Module`, which calls the layers sequentially within its forward pass."
   ]
  },
  {
   "cell_type": "code",
   "execution_count": 240,
   "metadata": {},
   "outputs": [
    {
     "name": "stdout",
     "output_type": "stream",
     "text": [
      "ElegantTwoLayerMLP(\n",
      "  (0): Linear(in_features=1, out_features=16, bias=True)\n",
      "  (1): ReLU()\n",
      "  (2): Linear(in_features=16, out_features=16, bias=True)\n",
      "  (3): ReLU()\n",
      "  (4): Linear(in_features=16, out_features=1, bias=True)\n",
      ")\n"
     ]
    }
   ],
   "source": [
    "class ElegantTwoLayerMLP(nn.Sequential):\n",
    "    def __init__(self, input_features, output_features, hidden_features=16):\n",
    "        super().__init__(\n",
    "            nn.Linear(input_features, hidden_features),\n",
    "            nn.ReLU(),\n",
    "            nn.Linear(hidden_features, hidden_features),\n",
    "            nn.ReLU(),\n",
    "            nn.Linear(hidden_features, output_features),\n",
    "        )\n",
    "\n",
    "#  instantiate the network to have 1 input feature and 1 output feature    \n",
    "network = ElegantTwoLayerMLP(1, 1)\n",
    "print(network)"
   ]
  },
  {
   "cell_type": "markdown",
   "metadata": {},
   "source": [
    "#### Optimizers\n",
    "\n",
    "You should now be able to define any kind of neural network you like. However if you want to optimize it you would still need to iterate through all the parameters to perform a gradient descent step. Fortunately, `torch.nn.optim` (imported as `optim`) implements classes that handle that for you! For example, let's say you would like to learn the function $f(x) = x^2$ with the previous neural network, using a MSE loss (often called the criterion) and stochastic gradient descent (SGD):"
   ]
  },
  {
   "cell_type": "code",
   "execution_count": 241,
   "metadata": {},
   "outputs": [],
   "source": [
    "def f(x):\n",
    "    return x**2\n",
    "\n",
    "# we use the MSE loss as criterion\n",
    "criterion = nn.MSELoss()\n",
    "\n",
    "# we create an instance of the SGD class that will make the updates for us\n",
    "optimizer = optim.SGD(params=network.parameters(), lr=.01)\n",
    "\n",
    "# Let's do some learning steps with randomly generated x values:\n",
    "for i in range(1000):\n",
    "    x = torch.randn(100, 1)\n",
    "    y = f(x)\n",
    "    y_pred = network(x)\n",
    "    \n",
    "    # we set all gradient values to 0\n",
    "    optimizer.zero_grad()\n",
    "    \n",
    "    # we compute the loss\n",
    "    loss = criterion(y_pred, y)\n",
    "    \n",
    "    # we perform the backward pass to accumulate the gradients\n",
    "    loss.backward()\n",
    "    \n",
    "    # we update the parameters\n",
    "    optimizer.step()"
   ]
  },
  {
   "cell_type": "markdown",
   "metadata": {},
   "source": [
    "Let's check the results."
   ]
  },
  {
   "cell_type": "code",
   "execution_count": 242,
   "metadata": {},
   "outputs": [
    {
     "data": {
      "image/png": "[encoded data removed]",
      "text/plain": [
       "<Figure size 640x480 with 1 Axes>"
      ]
     },
     "metadata": {},
     "output_type": "display_data"
    }
   ],
   "source": [
    "x = torch.linspace(-3, 3, 100).unsqueeze(1)\n",
    "\n",
    "with torch.no_grad():\n",
    "    y = network(x)\n",
    "\n",
    "plt.plot(x, f(x), label='$f(x)$')\n",
    "plt.plot(x, y, label='Approximation')\n",
    "plt.legend()\n",
    "plt.show()"
   ]
  },
  {
   "cell_type": "markdown",
   "metadata": {},
   "source": [
    "## 4. Training our first neural network classifier\n",
    "\n",
    "We now have all the necessary knowledge to build and train our very first neural network on a simple binary classification task. To do this we will start by importing a toy example dataset from the `sklearn` library, and then create and use the resulting splits for training."
   ]
  },
  {
   "cell_type": "code",
   "execution_count": 243,
   "metadata": {},
   "outputs": [
    {
     "data": {
      "image/png": "[encoded data removed]",
      "text/plain": [
       "<Figure size 640x480 with 1 Axes>"
      ]
     },
     "metadata": {},
     "output_type": "display_data"
    }
   ],
   "source": [
    "from sklearn.datasets import make_moons\n",
    "from sklearn.model_selection import train_test_split\n",
    "\n",
    "X, Y = make_moons(500, noise=0.1)  # create artificial data\n",
    "\n",
    "X_train, X_test, Y_train, Y_test = train_test_split(X, Y, test_size=0.25, random_state=73)  # create splits\n",
    "\n",
    "plt.scatter(X_train[:,0], X_train[:,1], c=Y_train)  # visualize the training data\n",
    "plt.show()"
   ]
  },
  {
   "cell_type": "markdown",
   "metadata": {},
   "source": [
    "When we train a neural network in PyTorch, no matter how complex the model is, we always go through a training loop. In this loop we feed the data to the model and get its predictions. We then compare the predictions of the network to the ground truth and adjust the parameters of the model by performing gradient descent. We have already seen all the components that are necessary for going through this process, so the only thing that remains to be done is to put all the pieces of this notebook together and train our **first awesome neural network!**\n",
    "\n",
    "During the training stage we would like to keep track whether our model will improve over the different iterations. It is therefore good practice to monitor whether the loss we are minimizing decreases over time, and whether the overall performance of the model increases the more training iterations we perform. Remember that one of the key components of PyTorch are tensors, and we might not always have the data coming in this specific format. It is therefore necessary to convert it if needed.\n",
    "\n",
    "Once the data is in an appropriate format it can be given to the model, and we can obtain its predictions. This is what we usually call the **forward pass**. Once we obtain our predictions, we can compare how close they are to what we would like the network to predict: to do this we feed our predictions together with the true labels through the loss function we are minimizing. At its early training stages the network will perform poorly, but it will improve as its weights/parameters are updated by gradient descent. We can do this very easily by obtaining the gradients of the parameters with respect to the loss function we are minimizing (**backward pass**) and adjusting these weights with the optimizer we defined previously.\n",
    "\n",
    "Once all of this is done we can measure the performance of our model, which in this case will be reflected by its accuracy in classifying the synthetic dataset we created beforehand. "
   ]
  },
  {
   "cell_type": "code",
   "execution_count": 244,
   "metadata": {},
   "outputs": [],
   "source": [
    "net = nn.Sequential(\n",
    "    nn.Linear(X.shape[-1], 32),\n",
    "    nn.ReLU(),\n",
    "    nn.Linear(32, 32),\n",
    "    nn.ReLU(),\n",
    "    nn.Linear(32, 1),\n",
    "    nn.Sigmoid(),\n",
    ")\n",
    "criterion = nn.BCELoss()\n",
    "optimizer = optim.Adam(net.parameters(), lr=.01)"
   ]
  },
  {
   "cell_type": "code",
   "execution_count": 245,
   "metadata": {},
   "outputs": [],
   "source": [
    "train_loss = []  # where we keep track of the loss\n",
    "train_accuracy = []  # where we keep track of the accuracy of the model\n",
    "iters = 128  # number of training iterations\n",
    "\n",
    "X_train_t = torch.from_numpy(X_train).float()\n",
    "Y_train_t = torch.from_numpy(Y_train).float()\n",
    "\n",
    "for i in range(iters):\n",
    "    y_pred = net(X_train_t)  # forward pass\n",
    "    y_pred = y_pred.squeeze(-1)  # transform the 1-element vectors into scalars\n",
    "\n",
    "    optimizer.zero_grad() # reset the gradients to 0\n",
    "    loss = criterion(y_pred, Y_train_t)  # compute the loss\n",
    "    loss.backward()  # obtain the gradients with respect to the loss\n",
    "    optimizer.step()  # perform one step of gradient descent\n",
    "    \n",
    "    with torch.no_grad():\n",
    "        y_pred_class = y_pred > 0.5  # we assign a label (0 or 1) based on the network's prediction\n",
    "        accuracy = (Y_train_t == y_pred_class).float().mean()  # compute accuracy\n",
    "    \n",
    "    train_accuracy.append(accuracy.item())\n",
    "    train_loss.append(loss.item())"
   ]
  },
  {
   "cell_type": "code",
   "execution_count": 246,
   "metadata": {},
   "outputs": [
    {
     "data": {
      "image/png": "[encoded data removed]",
      "text/plain": [
       "<Figure size 640x480 with 2 Axes>"
      ]
     },
     "metadata": {},
     "output_type": "display_data"
    }
   ],
   "source": [
    "fig, axs = plt.subplots(2, 1)\n",
    "\n",
    "axs[0].set_title('Training Loss')\n",
    "axs[0].plot(train_loss)\n",
    "axs[0].set_xlabel('Iterations')\n",
    "axs[0].set_ylabel('Loss (Binary Cross Entropy)')\n",
    "\n",
    "axs[1].set_title('Training Accuracy')\n",
    "axs[1].plot(train_accuracy)\n",
    "axs[1].set_xlabel('Iterations')\n",
    "axs[1].set_ylabel('Accuracy')\n",
    "\n",
    "plt.tight_layout()\n",
    "plt.show()"
   ]
  },
  {
   "cell_type": "code",
   "execution_count": 247,
   "metadata": {},
   "outputs": [
    {
     "data": {
      "image/png": "[encoded data removed]",
      "text/plain": [
       "<Figure size 640x480 with 1 Axes>"
      ]
     },
     "metadata": {},
     "output_type": "display_data"
    }
   ],
   "source": [
    "def plot_decision_boundary(X, y, model, steps=1000, cmap='Paired'):\n",
    "    \"\"\"\n",
    "    Function to plot the decision boundary and data points of a model.\n",
    "    Data points are colored based on their actual label.\n",
    "    \"\"\"\n",
    "    cmap = plt.get_cmap(cmap)\n",
    "\n",
    "    # Define region of interest by data limits\n",
    "    xmin, xmax = X[:,0].min(), X[:,0].max()\n",
    "    ymin, ymax = X[:,1].min(), X[:,1].max()\n",
    "    steps = 1000\n",
    "    x_span = np.linspace(xmin - .5, xmax + .5, steps)\n",
    "    y_span = np.linspace(ymin - .5, ymax + .5, steps)\n",
    "    xx, yy = np.meshgrid(x_span, y_span)\n",
    "\n",
    "    # Make predictions across region of interest\n",
    "    with torch.no_grad():\n",
    "        grid = np.stack([xx, yy], axis=-1)\n",
    "        grid = torch.from_numpy(grid).float()\n",
    "        pred = model(grid).squeeze(-1)\n",
    "\n",
    "    # Plot decision boundary in region of interest\n",
    "    fig, ax = plt.subplots()\n",
    "    ax.contourf(xx, yy, pred, cmap=cmap, alpha=0.5)\n",
    "\n",
    "    # Get predicted labels on training data and plot\n",
    "    train_labels = model(torch.from_numpy(X).float())\n",
    "    ax.scatter(X[:,0], X[:,1], c=y.ravel(), cmap=cmap, lw=0)\n",
    "\n",
    "    return fig\n",
    "\n",
    "fig = plot_decision_boundary(X_test, Y_test, net, cmap = 'RdBu')"
   ]
  },
  {
   "cell_type": "markdown",
   "metadata": {},
   "source": [
    "### 4.1 Discuss the bugs"
   ]
  },
  {
   "cell_type": "markdown",
   "metadata": {},
   "source": [
    "After actively following the theoretical lectures of professor Louppe, our favourite Italian student Al Dente remembered that a common loss function one can use when dealing with classification problems is the Cross-Entropy loss. However after implementing it in PyTorch, Al was disappointed because his code was not working.\n",
    "\n",
    "What do you think are the causes of the bug(s)? Maybe, first check the documentation of [`torch.nn.CrossEntropyLoss`](https://pytorch.org/docs/stable/generated/torch.nn.CrossEntropyLoss.html). Briefly discuss your ideas and **bonus** can you come up with a solution?"
   ]
  },
  {
   "cell_type": "code",
   "execution_count": 248,
   "metadata": {},
   "outputs": [],
   "source": [
    "net = nn.Sequential(\n",
    "    nn.Linear(X.shape[-1], 32),\n",
    "    nn.ELU(),\n",
    "    nn.Linear(32, 32),\n",
    "    nn.ELU(),\n",
    "    nn.Linear(32, 1),\n",
    ")\n",
    "\n",
    "criterion = nn.CrossEntropyLoss()\n",
    "optimizer = torch.optim.Adam(net.parameters(), lr=0.01)\n",
    "\n",
    "train_loss = []\n",
    "train_accuracy = []\n",
    "iters = 420\n",
    "\n",
    "X_train_t = torch.from_numpy(X_train).float()\n",
    "Y_train_t = torch.from_numpy(Y_train).float()\n",
    "\n",
    "for i in range(iters):\n",
    "    y_pred = net(X_train_t)\n",
    "    y_pred = y_pred.squeeze(-1)\n",
    "\n",
    "    loss = criterion(y_pred, Y_train_t)\n",
    "    loss.backward()\n",
    "    optimizer.step()"
   ]
  },
  {
   "cell_type": "markdown",
   "metadata": {},
   "source": [
    "> your discussion"
   ]
  },
  {
   "cell_type": "code",
   "execution_count": 249,
   "metadata": {},
   "outputs": [],
   "source": [
    "# your code (bonus)"
   ]
  },
  {
   "cell_type": "markdown",
   "metadata": {},
   "source": [
    "### 4.2 Try it yourself!"
   ]
  },
  {
   "cell_type": "markdown",
   "metadata": {},
   "source": [
    "Now try to play around with the neural network yourself: you are free to experiment with whatever you think is best exploring. Your goal is to come up with three modifications to the provided network architecture and to compare the performance of your modified models. As potential modifications you could experiment with changing the depth or width of the model, modifying the activation function, learning rate, optimizer, etc.\n",
    "\n",
    "Report your results with some appropriate plots and with a brief presentation of what you observe."
   ]
  },
  {
   "cell_type": "code",
   "execution_count": 250,
   "metadata": {},
   "outputs": [],
   "source": [
    "# Modèle 1: Augmentation de la profondeur du réseau\n",
    "model1 = nn.Sequential(\n",
    "    nn.Linear(X.shape[-1], 32),\n",
    "    nn.ReLU(),\n",
    "    nn.Linear(32, 64),  # Augmentation de la profondeur avec plus de neurones\n",
    "    nn.ReLU(),\n",
    "    nn.Linear(64, 1),\n",
    "    nn.Sigmoid()\n",
    ")\n",
    "optimizer1 = torch.optim.Adam(model1.parameters(), lr=0.01)\n",
    "\n",
    "# Modèle 2: Changement de la fonction d'activation\n",
    "model2 = nn.Sequential(\n",
    "    nn.Linear(X.shape[-1], 32),\n",
    "    nn.Tanh(),  # Changement de la fonction d'activation à Tanh\n",
    "    nn.Linear(32, 32),\n",
    "    nn.Tanh(),\n",
    "    nn.Linear(32, 1),\n",
    "    nn.Sigmoid()\n",
    ")\n",
    "optimizer2 = torch.optim.Adam(model2.parameters(), lr=0.01)\n",
    "\n",
    "# Modèle 3: Changement du taux d'apprentissage et de l'optimiseur\n",
    "model3 = nn.Sequential(\n",
    "    nn.Linear(X.shape[-1], 32),\n",
    "    nn.ReLU(),\n",
    "    nn.Linear(32, 32),\n",
    "    nn.ReLU(),\n",
    "    nn.Linear(32, 1),\n",
    "    nn.Sigmoid()\n",
    ")\n",
    "optimizer3 = torch.optim.SGD(model3.parameters(), lr=0.001)  # Changement du taux d'apprentissage et utilisation de SGD"
   ]
  },
  {
   "cell_type": "code",
   "execution_count": 255,
   "metadata": {},
   "outputs": [
    {
     "data": {
      "image/png": "[encoded data removed]",
      "text/plain": [
       "<Figure size 640x480 with 2 Axes>"
      ]
     },
     "metadata": {},
     "output_type": "display_data"
    }
   ],
   "source": [
    "# Modèle 1: Augmentation de la profondeur du réseau\n",
    "net = nn.Sequential(\n",
    "    nn.Linear(X.shape[-1], 32),\n",
    "    nn.ReLU(),\n",
    "    nn.Linear(32, 64),  # Augmentation de la profondeur avec plus de neurones\n",
    "    nn.ReLU(),\n",
    "    nn.Linear(64, 1),\n",
    "    nn.Sigmoid()\n",
    ")\n",
    "criterion = nn.BCELoss()\n",
    "optimizer = torch.optim.Adam(net.parameters(), lr=0.01)\n",
    "\n",
    "train_loss = []  # where we keep track of the loss\n",
    "train_accuracy = []  # where we keep track of the accuracy of the model\n",
    "iters = 128  # number of training iterations\n",
    "\n",
    "X_train_t = torch.from_numpy(X_train).float()\n",
    "Y_train_t = torch.from_numpy(Y_train).float()\n",
    "\n",
    "for i in range(iters):\n",
    "    y_pred = net(X_train_t)  # forward pass\n",
    "    y_pred = y_pred.squeeze(-1)  # transform the 1-element vectors into scalars\n",
    "\n",
    "    optimizer.zero_grad() # reset the gradients to 0\n",
    "    loss = criterion(y_pred, Y_train_t)  # compute the loss\n",
    "    loss.backward()  # obtain the gradients with respect to the loss\n",
    "    optimizer.step()  # perform one step of gradient descent\n",
    "    \n",
    "    with torch.no_grad():\n",
    "        y_pred_class = y_pred > 0.5  # we assign a label (0 or 1) based on the network's prediction\n",
    "        accuracy = (Y_train_t == y_pred_class).float().mean()  # compute accuracy\n",
    "    \n",
    "    train_accuracy.append(accuracy.item())\n",
    "    train_loss.append(loss.item())\n",
    "\n",
    "fig, axs = plt.subplots(2, 1)\n",
    "\n",
    "axs[0].set_title('Training Loss')\n",
    "axs[0].plot(train_loss)\n",
    "axs[0].set_xlabel('Iterations')\n",
    "axs[0].set_ylabel('Loss (Binary Cross Entropy)')\n",
    "\n",
    "axs[1].set_title('Training Accuracy')\n",
    "axs[1].plot(train_accuracy)\n",
    "axs[1].set_xlabel('Iterations')\n",
    "axs[1].set_ylabel('Accuracy')\n",
    "\n",
    "plt.tight_layout()\n",
    "plt.show()\n"
   ]
  },
  {
   "cell_type": "code",
   "execution_count": 256,
   "metadata": {},
   "outputs": [
    {
     "data": {
      "image/png": "[encoded data removed]",
      "text/plain": [
       "<Figure size 640x480 with 2 Axes>"
      ]
     },
     "metadata": {},
     "output_type": "display_data"
    }
   ],
   "source": [
    "# Modèle 2: Augmentation de la profondeur du réseau\n",
    "net = nn.Sequential(\n",
    "    nn.Linear(X.shape[-1], 32),\n",
    "    nn.Tanh(),  # Changement de la fonction d'activation à Tanh\n",
    "    nn.Linear(32, 32),\n",
    "    nn.Tanh(),\n",
    "    nn.Linear(32, 1),\n",
    "    nn.Sigmoid()\n",
    ")\n",
    "criterion = nn.BCELoss()\n",
    "optimizer = torch.optim.Adam(net.parameters(), lr=0.01)\n",
    "\n",
    "train_loss = []  # where we keep track of the loss\n",
    "train_accuracy = []  # where we keep track of the accuracy of the model\n",
    "iters = 128  # number of training iterations\n",
    "\n",
    "X_train_t = torch.from_numpy(X_train).float()\n",
    "Y_train_t = torch.from_numpy(Y_train).float()\n",
    "\n",
    "for i in range(iters):\n",
    "    y_pred = net(X_train_t)  # forward pass\n",
    "    y_pred = y_pred.squeeze(-1)  # transform the 1-element vectors into scalars\n",
    "\n",
    "    optimizer.zero_grad() # reset the gradients to 0\n",
    "    loss = criterion(y_pred, Y_train_t)  # compute the loss\n",
    "    loss.backward()  # obtain the gradients with respect to the loss\n",
    "    optimizer.step()  # perform one step of gradient descent\n",
    "    \n",
    "    with torch.no_grad():\n",
    "        y_pred_class = y_pred > 0.5  # we assign a label (0 or 1) based on the network's prediction\n",
    "        accuracy = (Y_train_t == y_pred_class).float().mean()  # compute accuracy\n",
    "    \n",
    "    train_accuracy.append(accuracy.item())\n",
    "    train_loss.append(loss.item())\n",
    "\n",
    "fig, axs = plt.subplots(2, 1)\n",
    "\n",
    "axs[0].set_title('Training Loss')\n",
    "axs[0].plot(train_loss)\n",
    "axs[0].set_xlabel('Iterations')\n",
    "axs[0].set_ylabel('Loss (Binary Cross Entropy)')\n",
    "\n",
    "axs[1].set_title('Training Accuracy')\n",
    "axs[1].plot(train_accuracy)\n",
    "axs[1].set_xlabel('Iterations')\n",
    "axs[1].set_ylabel('Accuracy')\n",
    "\n",
    "plt.tight_layout()\n",
    "plt.show()\n"
   ]
  },
  {
   "cell_type": "code",
   "execution_count": 257,
   "metadata": {},
   "outputs": [
    {
     "data": {
      "image/png": "[encoded data removed]",
      "text/plain": [
       "<Figure size 640x480 with 2 Axes>"
      ]
     },
     "metadata": {},
     "output_type": "display_data"
    }
   ],
   "source": [
    "# Modèle 3: Augmentation de la profondeur du réseau\n",
    "net = nn.Sequential(\n",
    "    nn.Linear(X.shape[-1], 32),\n",
    "    nn.ReLU(),\n",
    "    nn.Linear(32, 32),\n",
    "    nn.ReLU(),\n",
    "    nn.Linear(32, 1),\n",
    "    nn.Sigmoid()\n",
    ")\n",
    "criterion = nn.BCELoss()\n",
    "optimizer = torch.optim.Adam(net.parameters(), lr=0.001)\n",
    "\n",
    "train_loss = []  # where we keep track of the loss\n",
    "train_accuracy = []  # where we keep track of the accuracy of the model\n",
    "iters = 128  # number of training iterations\n",
    "\n",
    "X_train_t = torch.from_numpy(X_train).float()\n",
    "Y_train_t = torch.from_numpy(Y_train).float()\n",
    "\n",
    "for i in range(iters):\n",
    "    y_pred = net(X_train_t)  # forward pass\n",
    "    y_pred = y_pred.squeeze(-1)  # transform the 1-element vectors into scalars\n",
    "\n",
    "    optimizer.zero_grad() # reset the gradients to 0\n",
    "    loss = criterion(y_pred, Y_train_t)  # compute the loss\n",
    "    loss.backward()  # obtain the gradients with respect to the loss\n",
    "    optimizer.step()  # perform one step of gradient descent\n",
    "    \n",
    "    with torch.no_grad():\n",
    "        y_pred_class = y_pred > 0.5  # we assign a label (0 or 1) based on the network's prediction\n",
    "        accuracy = (Y_train_t == y_pred_class).float().mean()  # compute accuracy\n",
    "    \n",
    "    train_accuracy.append(accuracy.item())\n",
    "    train_loss.append(loss.item())\n",
    "\n",
    "fig, axs = plt.subplots(2, 1)\n",
    "\n",
    "axs[0].set_title('Training Loss')\n",
    "axs[0].plot(train_loss)\n",
    "axs[0].set_xlabel('Iterations')\n",
    "axs[0].set_ylabel('Loss (Binary Cross Entropy)')\n",
    "\n",
    "axs[1].set_title('Training Accuracy')\n",
    "axs[1].plot(train_accuracy)\n",
    "axs[1].set_xlabel('Iterations')\n",
    "axs[1].set_ylabel('Accuracy')\n",
    "\n",
    "plt.tight_layout()\n",
    "plt.show()\n"
   ]
  },
  {
   "cell_type": "markdown",
   "metadata": {},
   "source": [
    "> your discussion"
   ]
  },
  {
   "cell_type": "markdown",
   "metadata": {},
   "source": [
    "## Feedback\n",
    "\n",
    "We will now ask you a few questions to improve the content of this homework for next years."
   ]
  },
  {
   "cell_type": "markdown",
   "metadata": {},
   "source": [
    "<span style=\"color:blue\">How long did you spend on this homework?</span>"
   ]
  },
  {
   "cell_type": "markdown",
   "metadata": {},
   "source": []
  },
  {
   "cell_type": "markdown",
   "metadata": {},
   "source": [
    "<span style=\"color:blue\">Did you learn something?</span>"
   ]
  },
  {
   "cell_type": "markdown",
   "metadata": {},
   "source": []
  },
  {
   "cell_type": "markdown",
   "metadata": {},
   "source": [
    "<span style=\"color:blue\">Do you now feel comfortable with writing simple mathematical operations (like you would do in matlab or with numpy) in PyTorch?</span>"
   ]
  },
  {
   "cell_type": "markdown",
   "metadata": {},
   "source": []
  },
  {
   "cell_type": "markdown",
   "metadata": {},
   "source": [
    "<span style=\"color:blue\">Do you now feel comfortable using PyTorch for performing gradient descent?</span>"
   ]
  },
  {
   "cell_type": "markdown",
   "metadata": {},
   "source": []
  },
  {
   "cell_type": "markdown",
   "metadata": {},
   "source": [
    "<span style=\"color:blue\">Do you now feel comfortable with building and learning neural networks with PyTorch?</span>"
   ]
  },
  {
   "cell_type": "markdown",
   "metadata": {},
   "source": []
  }
 ],
 "metadata": {
  "kernelspec": {
   "display_name": "Python 3",
   "language": "python",
   "name": "python3"
  },
  "language_info": {
   "codemirror_mode": {
    "name": "ipython",
    "version": 3
   },
   "file_extension": ".py",
   "mimetype": "text/x-python",
   "name": "python",
   "nbconvert_exporter": "python",
   "pygments_lexer": "ipython3",
   "version": "3.12.2"
  }
 },
 "nbformat": 4,
 "nbformat_minor": 4
}
